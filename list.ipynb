{
 "cells": [
  {
   "cell_type": "code",
   "execution_count": 4,
   "metadata": {},
   "outputs": [
    {
     "name": "stdout",
     "output_type": "stream",
     "text": [
      "<class 'int'>\n"
     ]
    }
   ],
   "source": [
    "var = 25 \n",
    "print(type(var))"
   ]
  },
  {
   "cell_type": "code",
   "execution_count": 6,
   "metadata": {},
   "outputs": [
    {
     "name": "stdout",
     "output_type": "stream",
     "text": [
      "[25, 63, 96, 78, 45, 86]\n",
      "<class 'list'>\n"
     ]
    }
   ],
   "source": [
    "students_marks = [25,63,96,78,45,86]\n",
    "print(students_marks)\n",
    "print(type(students_marks))"
   ]
  },
  {
   "cell_type": "code",
   "execution_count": 9,
   "metadata": {},
   "outputs": [
    {
     "name": "stdout",
     "output_type": "stream",
     "text": [
      "[25, 63, 96, 25.25, 36.3, 'upflairs', True, 85, 9]\n",
      "<class 'list'>\n"
     ]
    }
   ],
   "source": [
    "students_marks = [25,63,96,25.25,36.3,'upflairs',True,85,9]\n",
    "print(students_marks)\n",
    "print(type(students_marks))"
   ]
  },
  {
   "cell_type": "code",
   "execution_count": 10,
   "metadata": {},
   "outputs": [
    {
     "name": "stdout",
     "output_type": "stream",
     "text": [
      "[25, 63, 96, 25.25, 36.3, 'upflairs', True, 85, 9]\n"
     ]
    }
   ],
   "source": [
    "# int arr[3] = {10,20,30}; \n",
    "print(students_marks)"
   ]
  },
  {
   "cell_type": "code",
   "execution_count": 15,
   "metadata": {},
   "outputs": [
    {
     "name": "stdout",
     "output_type": "stream",
     "text": [
      "8\n"
     ]
    }
   ],
   "source": [
    "st = \"upflairs\"\n",
    "print(len(st))  # total no. of character "
   ]
  },
  {
   "cell_type": "code",
   "execution_count": 16,
   "metadata": {},
   "outputs": [
    {
     "name": "stdout",
     "output_type": "stream",
     "text": [
      "5\n"
     ]
    }
   ],
   "source": [
    "ls = [10,20,3040,5060,85]\n",
    "print(len(ls))  # total no. of items. "
   ]
  },
  {
   "cell_type": "code",
   "execution_count": 19,
   "metadata": {},
   "outputs": [
    {
     "name": "stdout",
     "output_type": "stream",
     "text": [
      "63\n"
     ]
    }
   ],
   "source": [
    "    #    0  1  2  3  4  5 6  7\n",
    "ls = [10,20,30,52,63,96,85,74,54,69,25,63]\n",
    "print(ls[-1])"
   ]
  },
  {
   "cell_type": "code",
   "execution_count": null,
   "metadata": {},
   "outputs": [
    {
     "ename": "TypeError",
     "evalue": "'int' object is not subscriptable",
     "output_type": "error",
     "traceback": [
      "\u001b[1;31m---------------------------------------------------------------------------\u001b[0m",
      "\u001b[1;31mTypeError\u001b[0m                                 Traceback (most recent call last)",
      "Cell \u001b[1;32mIn[25], line 3\u001b[0m\n\u001b[0;32m      1\u001b[0m \u001b[38;5;66;03m#    0  1  2  3  4  5 6  7\u001b[39;00m\n\u001b[0;32m      2\u001b[0m ls \u001b[38;5;241m=\u001b[39m [\u001b[38;5;241m10\u001b[39m,\u001b[38;5;241m20\u001b[39m,\u001b[38;5;241m30\u001b[39m,\u001b[38;5;241m52\u001b[39m,\u001b[38;5;241m63\u001b[39m,\u001b[38;5;241m96\u001b[39m,\u001b[38;5;241m85\u001b[39m,\u001b[38;5;241m74\u001b[39m,\u001b[38;5;241m54\u001b[39m,\u001b[38;5;241m69\u001b[39m,\u001b[38;5;241m25\u001b[39m,\u001b[38;5;241m63\u001b[39m]\n\u001b[1;32m----> 3\u001b[0m \u001b[38;5;28mprint\u001b[39m(\u001b[43mls\u001b[49m\u001b[43m[\u001b[49m\u001b[38;5;241;43m3\u001b[39;49m\u001b[43m]\u001b[49m\u001b[43m[\u001b[49m\u001b[38;5;241;43m5\u001b[39;49m\u001b[43m]\u001b[49m)\n",
      "\u001b[1;31mTypeError\u001b[0m: 'int' object is not subscriptable"
     ]
    }
   ],
   "source": [
    "    #    0  1  2  3  4  5 6  7\n",
    "ls = [10,20,30,52,63,96,85,74,54,69,25,63]\n",
    "print(ls[3])"
   ]
  },
  {
   "cell_type": "code",
   "execution_count": 26,
   "metadata": {},
   "outputs": [
    {
     "name": "stdout",
     "output_type": "stream",
     "text": [
      "[1, 2, 3]\n",
      "<class 'list'>\n"
     ]
    }
   ],
   "source": [
    "# 1D array or list \n",
    "ls = [1,2,3]\n",
    "print(ls)\n",
    "print(type(ls))"
   ]
  },
  {
   "cell_type": "code",
   "execution_count": 29,
   "metadata": {},
   "outputs": [
    {
     "name": "stdout",
     "output_type": "stream",
     "text": [
      "[[1, 2, 3], [4, 5, 6], [7, 8, 9]]\n",
      "<class 'list'>\n"
     ]
    }
   ],
   "source": [
    "# 2Darray or list [1D,1D,1D,1D]\n",
    "ls = [[1,2,3],\n",
    "      [4,5,6],\n",
    "      [7,8,9]]\n",
    "      \n",
    "print(ls)\n",
    "print(type(ls))"
   ]
  },
  {
   "cell_type": "code",
   "execution_count": 30,
   "metadata": {},
   "outputs": [
    {
     "name": "stdout",
     "output_type": "stream",
     "text": [
      "[[[1, 2, 3], [4, 5, 6], [7, 8, 9]], [[1, 2, 3], [4, 5, 6], [7, 8, 9]], [[1, 2, 3], [4, 5, 6], [7, 8, 9]]]\n",
      "<class 'list'>\n"
     ]
    }
   ],
   "source": [
    "# 3Darray or list  [2D,2D,2D,2D]\n",
    "ls = [[[1,2,3],[4,5,6],[7,8,9]],[[1,2,3],[4,5,6],[7,8,9]],[[1,2,3],[4,5,6],[7,8,9]]]\n",
    "\n",
    "print(ls)\n",
    "print(type(ls))"
   ]
  },
  {
   "cell_type": "code",
   "execution_count": 36,
   "metadata": {},
   "outputs": [
    {
     "name": "stdout",
     "output_type": "stream",
     "text": [
      "[7, 8, 9]\n"
     ]
    }
   ],
   "source": [
    "# 2Darray or list [1D,1D,1D,1D]\n",
    "ls = [[1,2,3],[4,5,6],[7,8,9]]\n",
    "      \n",
    "print(ls[-1])\n"
   ]
  },
  {
   "cell_type": "code",
   "execution_count": 40,
   "metadata": {},
   "outputs": [
    {
     "data": {
      "text/plain": [
       "[7, 8, 9]"
      ]
     },
     "execution_count": 40,
     "metadata": {},
     "output_type": "execute_result"
    }
   ],
   "source": [
    "ls[2][1]"
   ]
  },
  {
   "cell_type": "code",
   "execution_count": null,
   "metadata": {},
   "outputs": [],
   "source": [
    "time , space "
   ]
  },
  {
   "cell_type": "code",
   "execution_count": 1,
   "metadata": {},
   "outputs": [
    {
     "name": "stdout",
     "output_type": "stream",
     "text": [
      "[10, 20, 30, 500, 850, 25]\n",
      "<class 'list'>\n"
     ]
    }
   ],
   "source": [
    "ls = [10,20,30,500,850,25]\n",
    "print(ls)\n",
    "print(type(ls))"
   ]
  },
  {
   "cell_type": "code",
   "execution_count": 2,
   "metadata": {},
   "outputs": [
    {
     "data": {
      "text/plain": [
       "[10, 20, 30, 500, 850, 25]"
      ]
     },
     "execution_count": 2,
     "metadata": {},
     "output_type": "execute_result"
    }
   ],
   "source": [
    "array:\n",
    "accessing the items  \n",
    "insertion operation \n",
    "deletion operation "
   ]
  },
  {
   "cell_type": "code",
   "execution_count": 4,
   "metadata": {},
   "outputs": [],
   "source": [
    "ls.append(100)  # used to insert the item into list "
   ]
  },
  {
   "cell_type": "code",
   "execution_count": 6,
   "metadata": {},
   "outputs": [
    {
     "name": "stdout",
     "output_type": "stream",
     "text": [
      "[10, 20, 30, 500, 850, 25, 100, 200]\n"
     ]
    }
   ],
   "source": [
    "ls.append(200)   # insert item into the list but at the last position \n",
    "print(ls)"
   ]
  },
  {
   "cell_type": "code",
   "execution_count": 7,
   "metadata": {},
   "outputs": [
    {
     "name": "stdout",
     "output_type": "stream",
     "text": [
      "[10, 20, 30, 500, 850, 25, 100, 200, 300]\n"
     ]
    }
   ],
   "source": [
    "ls.append(300)\n",
    "print(ls)"
   ]
  },
  {
   "cell_type": "code",
   "execution_count": null,
   "metadata": {},
   "outputs": [],
   "source": [
    "ls[1] = 500  # item insert ==> update "
   ]
  },
  {
   "cell_type": "code",
   "execution_count": 11,
   "metadata": {},
   "outputs": [
    {
     "name": "stdout",
     "output_type": "stream",
     "text": [
      "[10, 500, 30, 500, 850, 25, 100, 200, 300]\n"
     ]
    }
   ],
   "source": [
    "print(ls)"
   ]
  },
  {
   "cell_type": "code",
   "execution_count": 13,
   "metadata": {},
   "outputs": [
    {
     "name": "stdout",
     "output_type": "stream",
     "text": [
      "[10, 500, 55, 30, 500, 850, 25, 100, 200, 300]\n"
     ]
    }
   ],
   "source": [
    "ls.insert(2,55)\n",
    "print(ls)"
   ]
  },
  {
   "cell_type": "code",
   "execution_count": 8,
   "metadata": {},
   "outputs": [
    {
     "name": "stdout",
     "output_type": "stream",
     "text": [
      "[10, 20, 30, 500, 850, 25, 100, 200, 300]\n"
     ]
    }
   ],
   "source": [
    "print(ls)\n",
    "\n",
    "\n",
    "2nd ==> 55 "
   ]
  },
  {
   "cell_type": "code",
   "execution_count": 14,
   "metadata": {},
   "outputs": [
    {
     "name": "stdout",
     "output_type": "stream",
     "text": [
      "[10, 500, 55, 30, 500, 850, 25, 100, 200, 300]\n"
     ]
    }
   ],
   "source": [
    "print(ls)\n",
    "ls[1] = 20   # update \n",
    "ls.insert(position,item)   # to insert specific position \n",
    "ls.append(item ) # last insert"
   ]
  },
  {
   "cell_type": "code",
   "execution_count": 15,
   "metadata": {},
   "outputs": [
    {
     "name": "stdout",
     "output_type": "stream",
     "text": [
      "['A', 'B', 'C', 'D', 'E', 'F']\n"
     ]
    }
   ],
   "source": [
    "ls = ['A','B','C','D','E','F']\n",
    "print(ls)"
   ]
  },
  {
   "cell_type": "code",
   "execution_count": 17,
   "metadata": {},
   "outputs": [
    {
     "name": "stdout",
     "output_type": "stream",
     "text": [
      "['A', 'B', 'C', 'D', 'E']\n"
     ]
    }
   ],
   "source": [
    "ls.pop()  # remove the item from the last position\n",
    "print(ls)"
   ]
  },
  {
   "cell_type": "code",
   "execution_count": 19,
   "metadata": {},
   "outputs": [
    {
     "name": "stdout",
     "output_type": "stream",
     "text": [
      "['A', 'B', 'C', 'D', 'E']\n",
      "['B', 'C', 'D', 'E']\n"
     ]
    }
   ],
   "source": [
    "print(ls)\n",
    "ls.pop(0)\n",
    "print(ls)"
   ]
  },
  {
   "cell_type": "code",
   "execution_count": 21,
   "metadata": {},
   "outputs": [
    {
     "name": "stdout",
     "output_type": "stream",
     "text": [
      "['B', 'C', 'D', 'E']\n",
      "['B', 'C', 'E']\n"
     ]
    }
   ],
   "source": [
    "print(ls)\n",
    "ls.pop(2)\n",
    "print(ls)"
   ]
  },
  {
   "cell_type": "code",
   "execution_count": 22,
   "metadata": {},
   "outputs": [
    {
     "name": "stdout",
     "output_type": "stream",
     "text": [
      "[10, 20, 30, ['B', 'C', 'E'], 'upflairs']\n"
     ]
    }
   ],
   "source": [
    "ls = [10,20,30,['B', 'C', 'E'],'upflairs']\n",
    "print(ls)"
   ]
  },
  {
   "cell_type": "code",
   "execution_count": 24,
   "metadata": {},
   "outputs": [
    {
     "data": {
      "text/plain": [
       "'C'"
      ]
     },
     "execution_count": 24,
     "metadata": {},
     "output_type": "execute_result"
    }
   ],
   "source": [
    "ls[3].pop(1)"
   ]
  },
  {
   "cell_type": "code",
   "execution_count": 25,
   "metadata": {},
   "outputs": [
    {
     "name": "stdout",
     "output_type": "stream",
     "text": [
      "[10, 20, 30, ['B', 'E'], 'upflairs']\n"
     ]
    }
   ],
   "source": [
    "print(ls)"
   ]
  },
  {
   "cell_type": "code",
   "execution_count": 27,
   "metadata": {},
   "outputs": [
    {
     "name": "stdout",
     "output_type": "stream",
     "text": [
      "['A', 'B', 'C', 'D', 'E', 'F']\n"
     ]
    }
   ],
   "source": [
    "ls = ['A','B','C','D','E','F']\n",
    "print(ls)"
   ]
  },
  {
   "cell_type": "code",
   "execution_count": null,
   "metadata": {},
   "outputs": [],
   "source": [
    "insertion ==> insert, append \n",
    "deletion ==> pop , remove "
   ]
  },
  {
   "cell_type": "code",
   "execution_count": 29,
   "metadata": {},
   "outputs": [
    {
     "name": "stdout",
     "output_type": "stream",
     "text": [
      "['A', 'B', 'C', 'D', 'E', 'F']\n",
      "['A', 'B', 'C', 'E', 'F']\n"
     ]
    }
   ],
   "source": [
    "print(ls)\n",
    "ls.remove('D')\n",
    "print(ls) "
   ]
  },
  {
   "cell_type": "code",
   "execution_count": 31,
   "metadata": {},
   "outputs": [
    {
     "name": "stdout",
     "output_type": "stream",
     "text": [
      "['A', 'B', 'C', 'E', 'F']\n",
      "['A', 'B', 'C', 'F']\n"
     ]
    }
   ],
   "source": [
    "print(ls)\n",
    "del ls[3]\n",
    "print(ls)"
   ]
  },
  {
   "cell_type": "code",
   "execution_count": 32,
   "metadata": {},
   "outputs": [
    {
     "name": "stdout",
     "output_type": "stream",
     "text": [
      "['A', 'B', 'C', 'D', 'E', 'F']\n"
     ]
    }
   ],
   "source": [
    "ls = ['A','B','C','D','E','F']\n",
    "print(ls)\n",
    "# Z  "
   ]
  },
  {
   "cell_type": "code",
   "execution_count": 33,
   "metadata": {},
   "outputs": [
    {
     "name": "stdout",
     "output_type": "stream",
     "text": [
      "['A', 'B', 'C', 'Z', 'D', 'E', 'F']\n"
     ]
    }
   ],
   "source": [
    "ls.insert(3,\"Z\")\n",
    "print(ls)"
   ]
  },
  {
   "cell_type": "code",
   "execution_count": null,
   "metadata": {},
   "outputs": [],
   "source": [
    "ls.remove(\"Z\") \n",
    "ls.pop(3)\n",
    "del ls[3]"
   ]
  },
  {
   "cell_type": "code",
   "execution_count": 36,
   "metadata": {},
   "outputs": [
    {
     "name": "stdout",
     "output_type": "stream",
     "text": [
      "['A', 'B', 'C', 'D', 'E', 'F']\n"
     ]
    }
   ],
   "source": [
    "ls = ['A','B','C','D','E','F']\n",
    "print(ls)"
   ]
  },
  {
   "cell_type": "code",
   "execution_count": 38,
   "metadata": {},
   "outputs": [
    {
     "name": "stdout",
     "output_type": "stream",
     "text": [
      "[]\n"
     ]
    }
   ],
   "source": [
    "ls.clear()  # all delete \n",
    "print(ls)"
   ]
  },
  {
   "cell_type": "code",
   "execution_count": 43,
   "metadata": {},
   "outputs": [
    {
     "name": "stdout",
     "output_type": "stream",
     "text": [
      "['A', 'B', 'C', 'D', 'E', 'F', 'B', 'Ball']\n"
     ]
    }
   ],
   "source": [
    "ls = ['A','B','C','D','E','F','B','Ball']\n",
    "print(ls)"
   ]
  },
  {
   "cell_type": "code",
   "execution_count": 44,
   "metadata": {},
   "outputs": [
    {
     "name": "stdout",
     "output_type": "stream",
     "text": [
      "2\n"
     ]
    }
   ],
   "source": [
    "print(ls.count(\"B\"))  # it count occurence "
   ]
  },
  {
   "cell_type": "code",
   "execution_count": 42,
   "metadata": {},
   "outputs": [
    {
     "name": "stdout",
     "output_type": "stream",
     "text": [
      "1\n"
     ]
    }
   ],
   "source": [
    "print(ls.count(\"A\"))\n"
   ]
  },
  {
   "cell_type": "code",
   "execution_count": 45,
   "metadata": {},
   "outputs": [
    {
     "name": "stdout",
     "output_type": "stream",
     "text": [
      "['A', 'B', 'C', 'D', 'E', 'F', 'B', 'Ball']\n"
     ]
    }
   ],
   "source": [
    "ls = ['A','B','C','D','E','F','B','Ball']\n",
    "print(ls)"
   ]
  },
  {
   "cell_type": "code",
   "execution_count": 46,
   "metadata": {},
   "outputs": [
    {
     "data": {
      "text/plain": [
       "2"
      ]
     },
     "execution_count": 46,
     "metadata": {},
     "output_type": "execute_result"
    }
   ],
   "source": [
    "ls.index('C')"
   ]
  },
  {
   "cell_type": "code",
   "execution_count": null,
   "metadata": {},
   "outputs": [],
   "source": []
  },
  {
   "cell_type": "code",
   "execution_count": 47,
   "metadata": {},
   "outputs": [
    {
     "name": "stdout",
     "output_type": "stream",
     "text": [
      "['A', 'B', 'C', 'D', 'E', 'F', 'B', 'Ball']\n"
     ]
    }
   ],
   "source": [
    "ls2 = ls.copy()\n",
    "print(ls2)"
   ]
  },
  {
   "cell_type": "code",
   "execution_count": 50,
   "metadata": {},
   "outputs": [
    {
     "name": "stdout",
     "output_type": "stream",
     "text": [
      "['A', 'B', 'C', 'D', 'E', 'F', 'B', 'Ball']\n",
      "['A', 'B', 'C', 'D', 'E', 'F', 'B', 'Ball']\n",
      "['A', 'B', 'C', 'D', 'E', 'F', 'B']\n",
      "['A', 'B', 'C', 'D', 'E', 'F', 'B', 'Ball']\n"
     ]
    }
   ],
   "source": [
    "print(ls)\n",
    "print(ls2)\n",
    "ls.pop()\n",
    "print(ls)\n",
    "print(ls2)\n"
   ]
  },
  {
   "cell_type": "code",
   "execution_count": 53,
   "metadata": {},
   "outputs": [
    {
     "name": "stdout",
     "output_type": "stream",
     "text": [
      "[42, 5, 587, 96, 84, 75, 45, 96, 25]\n"
     ]
    }
   ],
   "source": [
    "ls = [25,96,45,75,84,96,587,5,42]\n",
    "ls.reverse() \n",
    "print(ls)"
   ]
  },
  {
   "cell_type": "code",
   "execution_count": 54,
   "metadata": {},
   "outputs": [
    {
     "name": "stdout",
     "output_type": "stream",
     "text": [
      "[42, 5, 587, 96, 84, 75, 45, 96, 25]\n"
     ]
    }
   ],
   "source": [
    "print(ls)"
   ]
  },
  {
   "cell_type": "code",
   "execution_count": 56,
   "metadata": {},
   "outputs": [
    {
     "name": "stdout",
     "output_type": "stream",
     "text": [
      "[42, 5, 587, 96, 84, 75, 45, 96, 25]\n"
     ]
    }
   ],
   "source": [
    "ls = [25,96,45,75,84,96,587,5,42] \n",
    "print(ls[::-1])"
   ]
  },
  {
   "cell_type": "code",
   "execution_count": 58,
   "metadata": {},
   "outputs": [
    {
     "name": "stdout",
     "output_type": "stream",
     "text": [
      "[25, 96, 45, 75, 84, 96, 587, 5, 42]\n",
      "[5, 25, 42, 45, 75, 84, 96, 96, 587]\n"
     ]
    }
   ],
   "source": [
    "ls = [25,96,45,75,84,96,587,5,42] \n",
    "print(ls)\n",
    "ls.sort()  # ascending order \n",
    "print(ls)"
   ]
  },
  {
   "cell_type": "code",
   "execution_count": 59,
   "metadata": {},
   "outputs": [
    {
     "name": "stdout",
     "output_type": "stream",
     "text": [
      "[25, 96, 45, 75, 84, 96, 587, 5, 42]\n",
      "[587, 96, 96, 84, 75, 45, 42, 25, 5]\n"
     ]
    }
   ],
   "source": [
    "ls = [25,96,45,75,84,96,587,5,42] \n",
    "print(ls)\n",
    "ls.sort()  # ascending order \n",
    "print(ls[::-1])  # descending order "
   ]
  },
  {
   "cell_type": "code",
   "execution_count": 61,
   "metadata": {},
   "outputs": [
    {
     "name": "stdout",
     "output_type": "stream",
     "text": [
      "[25, 96, 45, 75, 84, 96, 587, 5, 42]\n",
      "[5, 25, 42, 45, 75, 84, 96, 96, 587]\n"
     ]
    }
   ],
   "source": [
    "ls = [25,96,45,75,84,96,587,5,42] \n",
    "print(ls)\n",
    "ls.sort(reverse=True)  # descending order \n",
    "print(ls)  # descending order "
   ]
  },
  {
   "cell_type": "code",
   "execution_count": 66,
   "metadata": {},
   "outputs": [
    {
     "name": "stdout",
     "output_type": "stream",
     "text": [
      "None\n"
     ]
    }
   ],
   "source": [
    "ls = [25,96,45,75,84,96,587,5,42] \n",
    "output = ls.sort()\n",
    "print(output)"
   ]
  },
  {
   "cell_type": "code",
   "execution_count": 75,
   "metadata": {},
   "outputs": [
    {
     "name": "stdout",
     "output_type": "stream",
     "text": [
      "[587, 96, 96, 84, 75, 45, 42, 25, 5]\n"
     ]
    }
   ],
   "source": [
    "ls = [25,96,45,75,84,96,587,5,42] \n",
    "ls2 = sorted(ls)\n",
    "ls2.reverse()\n",
    "print(ls2)\n",
    "\n",
    "\n",
    "\n"
   ]
  },
  {
   "cell_type": "code",
   "execution_count": 78,
   "metadata": {},
   "outputs": [
    {
     "name": "stdout",
     "output_type": "stream",
     "text": [
      "[587, 96, 96, 84, 75, 45, 42, 25, 5]\n"
     ]
    }
   ],
   "source": [
    "ls = [25,96,45,75,84,96,587,5,42] \n",
    "ouput = sorted(ls)[::-1]\n",
    "print(ouput)"
   ]
  },
  {
   "cell_type": "code",
   "execution_count": 79,
   "metadata": {},
   "outputs": [
    {
     "name": "stdout",
     "output_type": "stream",
     "text": [
      "['A', 'B', 'C', 'D']\n",
      "['F', 'G', 'H']\n"
     ]
    }
   ],
   "source": [
    "# difference btwn append and extend?  \n",
    "ls1 = ['A','B','C','D']\n",
    "ls2 = ['F','G','H']\n",
    "print(ls1)\n",
    "print(ls2)\n"
   ]
  },
  {
   "cell_type": "code",
   "execution_count": 80,
   "metadata": {},
   "outputs": [
    {
     "name": "stdout",
     "output_type": "stream",
     "text": [
      "['A', 'B', 'C', 'D', ['F', 'G', 'H']]\n"
     ]
    }
   ],
   "source": [
    "ls1.append(ls2)\n",
    "print(ls1)"
   ]
  },
  {
   "cell_type": "code",
   "execution_count": 81,
   "metadata": {},
   "outputs": [
    {
     "name": "stdout",
     "output_type": "stream",
     "text": [
      "['A', 'B', 'C', 'D']\n",
      "['F', 'G', 'H']\n"
     ]
    }
   ],
   "source": [
    "ls1 = ['A','B','C','D']\n",
    "ls2 = ['F','G','H']\n",
    "print(ls1)\n",
    "print(ls2)"
   ]
  },
  {
   "cell_type": "code",
   "execution_count": 82,
   "metadata": {},
   "outputs": [
    {
     "name": "stdout",
     "output_type": "stream",
     "text": [
      "['A', 'B', 'C', 'D', 'F', 'G', 'H']\n"
     ]
    }
   ],
   "source": [
    "ls1.e)\n",
    "print(ls1)xtend(ls2"
   ]
  },
  {
   "cell_type": "code",
   "execution_count": 84,
   "metadata": {},
   "outputs": [
    {
     "name": "stdout",
     "output_type": "stream",
     "text": [
      "G\n"
     ]
    }
   ],
   "source": [
    "print(ls1[5])"
   ]
  },
  {
   "cell_type": "code",
   "execution_count": 85,
   "metadata": {},
   "outputs": [
    {
     "name": "stdout",
     "output_type": "stream",
     "text": [
      "['A', 'B', 'C', 'D', 'F', 'G', 'H']\n"
     ]
    }
   ],
   "source": [
    "ls1 = ['A','B','C','D']\n",
    "ls2 = ['F','G','H']\n",
    "\n",
    "ls3 = ls1 + ls2  # concatenation \n",
    "print(ls3)"
   ]
  },
  {
   "cell_type": "code",
   "execution_count": 88,
   "metadata": {},
   "outputs": [
    {
     "name": "stdout",
     "output_type": "stream",
     "text": [
      "['F', 'G', 'H', 'F', 'G', 'H', 'F', 'G', 'H']\n"
     ]
    }
   ],
   "source": [
    "ls2 = ['F','G','H'] \n",
    "print(ls2 * 3 )"
   ]
  },
  {
   "cell_type": "code",
   "execution_count": null,
   "metadata": {},
   "outputs": [],
   "source": [
    "ls1 = ['A','B','C','D'] \n",
    "\n",
    "1. insert 'Z' at the 2nd position in above list \n",
    "2. remove 'D' from the list do it by multiple  ways. del, remove , pop . \n",
    "ls2 = [85,96,54,5,85,69,2]\n",
    "1. sort the list into  ascending order as well as desecnding order. \n",
    "2. ls3 = [\"RADHEY\",\"UPFLAIRS\"]  extend into ls2. \n",
    "ls2 = [85,96,54,5,85,69,2,\"RADHEY\",\"UPFLAIRS\"]\n",
    "3. update \"RADHEY\" by the \"Radha\" \n",
    "4. extract \"AIR\" from the \"UPFLAIRS\" from ls2."
   ]
  }
 ],
 "metadata": {
  "kernelspec": {
   "display_name": "Python 3",
   "language": "python",
   "name": "python3"
  },
  "language_info": {
   "codemirror_mode": {
    "name": "ipython",
    "version": 3
   },
   "file_extension": ".py",
   "mimetype": "text/x-python",
   "name": "python",
   "nbconvert_exporter": "python",
   "pygments_lexer": "ipython3",
   "version": "3.12.4"
  }
 },
 "nbformat": 4,
 "nbformat_minor": 2
}
