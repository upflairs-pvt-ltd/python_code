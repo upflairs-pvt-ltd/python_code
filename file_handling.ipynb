{
 "cells": [
  {
   "cell_type": "markdown",
   "metadata": {},
   "source": [
    "#### File Handling "
   ]
  },
  {
   "cell_type": "code",
   "execution_count": 14,
   "metadata": {},
   "outputs": [
    {
     "name": "stdout",
     "output_type": "stream",
     "text": [
      "we are here to help you,\n",
      "ritik radhey, vikash\n"
     ]
    }
   ],
   "source": [
    "# open(file_path,mode) \n",
    "file_path = r\"C:\\Users\\Ranjit\\Desktop\\vikash upflairs\\demo.txt\" \n",
    "file = open(file_path,mode='r')\n",
    "content = file.read() \n",
    "print(content)\n",
    "file.close()"
   ]
  },
  {
   "cell_type": "code",
   "execution_count": 8,
   "metadata": {},
   "outputs": [
    {
     "name": "stdout",
     "output_type": "stream",
     "text": [
      "hello from \\n jaipur\n"
     ]
    }
   ],
   "source": [
    "st = r\"hello from \\n jaipur\"\n",
    "print(st)"
   ]
  },
  {
   "cell_type": "code",
   "execution_count": 33,
   "metadata": {},
   "outputs": [],
   "source": [
    "file = open(\"demo.txt\")  # by defualt mode = \"r\""
   ]
  },
  {
   "cell_type": "code",
   "execution_count": 34,
   "metadata": {},
   "outputs": [
    {
     "name": "stdout",
     "output_type": "stream",
     "text": [
      "we ar\n"
     ]
    }
   ],
   "source": [
    "content = file.read(5)\n",
    "print(content)"
   ]
  },
  {
   "cell_type": "code",
   "execution_count": 47,
   "metadata": {},
   "outputs": [
    {
     "name": "stdout",
     "output_type": "stream",
     "text": [
      "\n"
     ]
    }
   ],
   "source": [
    "content = file.read(5)\n",
    "print(content)"
   ]
  },
  {
   "cell_type": "code",
   "execution_count": 59,
   "metadata": {},
   "outputs": [],
   "source": [
    "file = open(\"demo.txt\")\n"
   ]
  },
  {
   "cell_type": "code",
   "execution_count": 60,
   "metadata": {},
   "outputs": [
    {
     "name": "stdout",
     "output_type": "stream",
     "text": [
      "we are here to help you,\n",
      "\n"
     ]
    }
   ],
   "source": [
    "data = file.readline()\n",
    "print(data)\n"
   ]
  },
  {
   "cell_type": "code",
   "execution_count": 61,
   "metadata": {},
   "outputs": [
    {
     "name": "stdout",
     "output_type": "stream",
     "text": [
      "ritik radhey, vikash\n",
      "\n"
     ]
    }
   ],
   "source": [
    "data = file.readline()\n",
    "print(data)"
   ]
  },
  {
   "cell_type": "code",
   "execution_count": 62,
   "metadata": {},
   "outputs": [
    {
     "name": "stdout",
     "output_type": "stream",
     "text": [
      "hiii from jaipur\n"
     ]
    }
   ],
   "source": [
    "data = file.readline()\n",
    "print(data)"
   ]
  },
  {
   "cell_type": "code",
   "execution_count": 64,
   "metadata": {},
   "outputs": [
    {
     "name": "stdout",
     "output_type": "stream",
     "text": [
      "['we are here to help you,\\n', 'ritik radhey, vikash\\n', 'hiii from jaipur']\n",
      "3\n"
     ]
    }
   ],
   "source": [
    "file = open(\"demo.txt\")\n",
    "data = file.readlines()\n",
    "print(data)\n",
    "print(len(data))"
   ]
  },
  {
   "cell_type": "code",
   "execution_count": null,
   "metadata": {},
   "outputs": [],
   "source": [
    "file = open(\"demo.txt\")\n",
    "data = file.\n",
    "print(data)\n",
    "print(len(data))"
   ]
  },
  {
   "cell_type": "code",
   "execution_count": 3,
   "metadata": {},
   "outputs": [],
   "source": [
    "message = \"hello we are learning file handling\"\n",
    "file = open(\"demo2.txt\",'w')\n",
    "file.write(message)\n",
    "file.close()"
   ]
  },
  {
   "cell_type": "code",
   "execution_count": 10,
   "metadata": {},
   "outputs": [],
   "source": [
    "message = \"hello we are learning file handling\"\n",
    "file = open(\"demo2.txt\",'w')\n",
    "file.write(message)\n",
    "file.close()"
   ]
  },
  {
   "cell_type": "code",
   "execution_count": 46,
   "metadata": {},
   "outputs": [],
   "source": [
    "message = \"hello we are learning file handling ........  \\n \"\n",
    "file = open('demo3.txt','a')\n",
    "file.write(message)\n",
    "file.close()"
   ]
  },
  {
   "cell_type": "code",
   "execution_count": 66,
   "metadata": {},
   "outputs": [],
   "source": [
    "message = \"akash nitish vikash ritik radhey  \\n \"\n",
    "file = open('demo3.txt','a')\n",
    "file.write(message)\n",
    "file.close()"
   ]
  },
  {
   "cell_type": "code",
   "execution_count": 80,
   "metadata": {},
   "outputs": [],
   "source": [
    "message = \"akash nitish vikash ritik radhey  \\n \"\n",
    "# file = open('demo5.txt','x')\n",
    "# file.write(message)\n",
    "file.close()"
   ]
  },
  {
   "cell_type": "code",
   "execution_count": 78,
   "metadata": {},
   "outputs": [
    {
     "data": {
      "text/plain": [
       "8"
      ]
     },
     "execution_count": 78,
     "metadata": {},
     "output_type": "execute_result"
    }
   ],
   "source": [
    "file.write('upflairs')"
   ]
  },
  {
   "cell_type": "code",
   "execution_count": 96,
   "metadata": {},
   "outputs": [
    {
     "data": {
      "text/plain": [
       "0"
      ]
     },
     "execution_count": 96,
     "metadata": {},
     "output_type": "execute_result"
    }
   ],
   "source": [
    "message = \"upflairs pvt ltd jaipur\"\n",
    "file = open('demo6.txt','w+') \n",
    "file.write(message)\n",
    "file.seek(0)\n"
   ]
  },
  {
   "cell_type": "code",
   "execution_count": 97,
   "metadata": {},
   "outputs": [
    {
     "name": "stdout",
     "output_type": "stream",
     "text": [
      "upflairs pvt ltd jaipur\n"
     ]
    }
   ],
   "source": [
    "print(file.read())\n",
    "file.close()"
   ]
  },
  {
   "cell_type": "code",
   "execution_count": 99,
   "metadata": {},
   "outputs": [
    {
     "name": "stdout",
     "output_type": "stream",
     "text": [
      "we are here to help you,\n",
      "ritik radhey, vikash\n",
      "hiii from jaipur\n"
     ]
    }
   ],
   "source": [
    "file = open('demo.txt','r')\n",
    "content = file.read()\n",
    "print(content)\n",
    "file.close()"
   ]
  },
  {
   "cell_type": "code",
   "execution_count": 100,
   "metadata": {},
   "outputs": [
    {
     "name": "stdout",
     "output_type": "stream",
     "text": [
      "we are here to help you,\n",
      "ritik radhey, vikash\n",
      "hiii from jaipur\n"
     ]
    }
   ],
   "source": [
    "with open('demo.txt','r') as file:\n",
    "    content = file.read()\n",
    "    print(content)"
   ]
  },
  {
   "cell_type": "code",
   "execution_count": 101,
   "metadata": {},
   "outputs": [
    {
     "name": "stdout",
     "output_type": "stream",
     "text": [
      "successfully write your data\n"
     ]
    }
   ],
   "source": [
    "message = \"hello from delvex\"\n",
    "with open('demo2.txt','w') as file:\n",
    "    file.write(message)\n",
    "print(\"successfully write your data\")"
   ]
  },
  {
   "cell_type": "code",
   "execution_count": 104,
   "metadata": {},
   "outputs": [
    {
     "name": "stdout",
     "output_type": "stream",
     "text": [
      "we are here to help you,\n",
      "\n"
     ]
    }
   ],
   "source": [
    "with open('demo.txt','r') as file:\n",
    "    content = file.readline(32)\n",
    "    print(content)"
   ]
  },
  {
   "cell_type": "code",
   "execution_count": 111,
   "metadata": {},
   "outputs": [
    {
     "name": "stdout",
     "output_type": "stream",
     "text": [
      "['we are here to help you,\\n', 'ritik radhey, vikash\\n', 'hiii from jaipur']\n"
     ]
    }
   ],
   "source": [
    "with open('demo.txt','r') as file:\n",
    "    content = file.readlines(46)\n",
    "    print(content)"
   ]
  },
  {
   "cell_type": "code",
   "execution_count": null,
   "metadata": {},
   "outputs": [],
   "source": [
    "test.csv ===> coma separated value \n",
    "\n",
    "\n",
    "name,branch,year\n",
    "ranjit,it,2020\n",
    "mohit,cse,2021  \n",
    "\n",
    "\n",
    "json file "
   ]
  }
 ],
 "metadata": {
  "kernelspec": {
   "display_name": "Python 3",
   "language": "python",
   "name": "python3"
  },
  "language_info": {
   "codemirror_mode": {
    "name": "ipython",
    "version": 3
   },
   "file_extension": ".py",
   "mimetype": "text/x-python",
   "name": "python",
   "nbconvert_exporter": "python",
   "pygments_lexer": "ipython3",
   "version": "3.12.4"
  }
 },
 "nbformat": 4,
 "nbformat_minor": 2
}
