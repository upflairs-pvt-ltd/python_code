{
 "cells": [
  {
   "cell_type": "code",
   "execution_count": 5,
   "metadata": {},
   "outputs": [
    {
     "name": "stdout",
     "output_type": "stream",
     "text": [
      "1 . hello world\n",
      "2 . hello world\n",
      "3 . hello world\n",
      "4 . hello world\n",
      "5 . hello world\n",
      "6 . hello world\n",
      "7 . hello world\n",
      "8 . hello world\n",
      "9 . hello world\n",
      "10 . hello world\n"
     ]
    }
   ],
   "source": [
    "for serial_no in range(1,11):\n",
    "    print(serial_no,\". hello world\")"
   ]
  },
  {
   "cell_type": "code",
   "execution_count": 9,
   "metadata": {},
   "outputs": [
    {
     "name": "stdout",
     "output_type": "stream",
     "text": [
      "2\n",
      "4\n",
      "6\n",
      "8\n",
      "10\n",
      "12\n",
      "14\n",
      "16\n",
      "18\n",
      "20\n",
      "22\n",
      "24\n",
      "26\n",
      "28\n",
      "30\n",
      "32\n",
      "34\n",
      "36\n",
      "38\n",
      "40\n",
      "42\n",
      "44\n",
      "46\n",
      "48\n",
      "50\n",
      "52\n",
      "54\n",
      "56\n",
      "58\n",
      "60\n",
      "62\n",
      "64\n",
      "66\n",
      "68\n",
      "70\n",
      "72\n",
      "74\n",
      "76\n",
      "78\n",
      "80\n",
      "82\n",
      "84\n",
      "86\n",
      "88\n",
      "90\n",
      "92\n",
      "94\n",
      "96\n",
      "98\n",
      "100\n"
     ]
    }
   ],
   "source": [
    "for item in range(2,101,2):\n",
    "    print(item)"
   ]
  },
  {
   "cell_type": "code",
   "execution_count": null,
   "metadata": {},
   "outputs": [],
   "source": []
  },
  {
   "cell_type": "code",
   "execution_count": 1,
   "metadata": {},
   "outputs": [
    {
     "name": "stdout",
     "output_type": "stream",
     "text": [
      "0\n",
      "1\n",
      "2\n",
      "3\n",
      "4\n",
      "5\n",
      "6\n",
      "7\n",
      "8\n",
      "9\n"
     ]
    }
   ],
   "source": [
    "for i in range(10):\n",
    "    print(i)\n",
    "    "
   ]
  },
  {
   "cell_type": "code",
   "execution_count": 2,
   "metadata": {},
   "outputs": [
    {
     "name": "stdout",
     "output_type": "stream",
     "text": [
      "u\n",
      "p\n",
      "f\n",
      "l\n",
      "a\n",
      "i\n",
      "r\n",
      "s\n"
     ]
    }
   ],
   "source": [
    "st = \"upflairs\"\n",
    "for char in st:\n",
    "    print(char)\n"
   ]
  },
  {
   "cell_type": "code",
   "execution_count": 12,
   "metadata": {},
   "outputs": [
    {
     "name": "stdout",
     "output_type": "stream",
     "text": [
      "hello world Hello world "
     ]
    }
   ],
   "source": [
    "print(\"hello world\",end=\" \")\n",
    "print(\"Hello world\",end=\" \")"
   ]
  },
  {
   "cell_type": "code",
   "execution_count": 5,
   "metadata": {},
   "outputs": [
    {
     "name": "stdout",
     "output_type": "stream",
     "text": [
      "u\n",
      "p\n",
      "f\n",
      "l\n",
      "a\n",
      "i\n",
      "r\n",
      "s\n"
     ]
    }
   ],
   "source": [
    "for i in range(len(st)):\n",
    "    print(st[i])"
   ]
  },
  {
   "cell_type": "code",
   "execution_count": 15,
   "metadata": {},
   "outputs": [
    {
     "name": "stdout",
     "output_type": "stream",
     "text": [
      "u p f l a i r s "
     ]
    }
   ],
   "source": [
    "for i in range(len(st)):\n",
    "    print(st[i],end=\" \")"
   ]
  },
  {
   "cell_type": "code",
   "execution_count": 17,
   "metadata": {},
   "outputs": [
    {
     "name": "stdout",
     "output_type": "stream",
     "text": [
      "10\n",
      "20\n",
      "30\n",
      "40\n",
      "50\n",
      "60\n"
     ]
    }
   ],
   "source": [
    "ls = [10,20,30,40,50,60]\n",
    "for item in range(len(ls)):\n",
    "    print(ls[item])"
   ]
  },
  {
   "cell_type": "code",
   "execution_count": 19,
   "metadata": {},
   "outputs": [
    {
     "name": "stdout",
     "output_type": "stream",
     "text": [
      "10\n",
      "20\n",
      "30\n",
      "40\n",
      "50\n",
      "60\n"
     ]
    }
   ],
   "source": [
    "ls = [10,20,30,40,50,60]\n",
    "for item in ls:\n",
    "    print(item)"
   ]
  },
  {
   "cell_type": "code",
   "execution_count": 20,
   "metadata": {},
   "outputs": [
    {
     "name": "stdout",
     "output_type": "stream",
     "text": [
      "10\n",
      "20\n",
      "30\n",
      "40\n",
      "50\n",
      "60\n"
     ]
    }
   ],
   "source": [
    "ls = (10,20,30,40,50,60)\n",
    "for item in ls:\n",
    "    print(item)"
   ]
  },
  {
   "cell_type": "code",
   "execution_count": 21,
   "metadata": {},
   "outputs": [
    {
     "name": "stdout",
     "output_type": "stream",
     "text": [
      "50\n",
      "20\n",
      "40\n",
      "10\n",
      "60\n",
      "30\n"
     ]
    }
   ],
   "source": [
    "ls = {10,20,30,40,50,60}\n",
    "for item in ls:\n",
    "    print(item)"
   ]
  },
  {
   "cell_type": "code",
   "execution_count": 27,
   "metadata": {},
   "outputs": [
    {
     "name": "stdout",
     "output_type": "stream",
     "text": [
      "A\n",
      "B\n",
      "C\n",
      "D\n",
      "E\n"
     ]
    }
   ],
   "source": [
    "dt = {'A':10,'B':20,'C':30,'D':40,'E':40}\n",
    "for item in dt:\n",
    "    print(item)"
   ]
  },
  {
   "cell_type": "code",
   "execution_count": 29,
   "metadata": {},
   "outputs": [
    {
     "name": "stdout",
     "output_type": "stream",
     "text": [
      "10\n",
      "20\n",
      "30\n",
      "40\n",
      "40\n"
     ]
    }
   ],
   "source": [
    "dt = {'A':10,'B':20,'C':30,'D':40,'E':40}\n",
    "for item in dt.values():\n",
    "    print(item)"
   ]
  },
  {
   "cell_type": "code",
   "execution_count": 25,
   "metadata": {},
   "outputs": [
    {
     "name": "stdout",
     "output_type": "stream",
     "text": [
      "{'A': 10, 'B': 20, 'C': 30, 'D': 40, 'E': 40}\n",
      "dict_keys(['A', 'B', 'C', 'D', 'E'])\n",
      "dict_values([10, 20, 30, 40, 40])\n"
     ]
    }
   ],
   "source": [
    "dt = {'A':10,'B':20,'C':30,'D':40,'E':40} \n",
    "print(dt)\n",
    "print(dt.keys())\n",
    "print(dt.values())"
   ]
  },
  {
   "cell_type": "code",
   "execution_count": 31,
   "metadata": {},
   "outputs": [
    {
     "name": "stdout",
     "output_type": "stream",
     "text": [
      "('A', 10)\n",
      "('B', 20)\n",
      "('C', 30)\n",
      "('D', 40)\n",
      "('E', 40)\n"
     ]
    }
   ],
   "source": [
    "dt = {'A':10,'B':20,'C':30,'D':40,'E':40}\n",
    "for tpl in dt.items():  # [(k,v),(),()]\n",
    "    print(tpl)"
   ]
  },
  {
   "cell_type": "code",
   "execution_count": 33,
   "metadata": {},
   "outputs": [
    {
     "name": "stdout",
     "output_type": "stream",
     "text": [
      "key :  A values :  10\n",
      "key :  B values :  20\n",
      "key :  C values :  30\n",
      "key :  D values :  40\n",
      "key :  E values :  40\n"
     ]
    }
   ],
   "source": [
    "dt = {'A':10,'B':20,'C':30,'D':40,'E':40}\n",
    "for tpl in dt.items():  # [(k,v),(),()]\n",
    "    print(\"key : \",tpl[0], \"values : \",tpl[1])"
   ]
  },
  {
   "cell_type": "code",
   "execution_count": 34,
   "metadata": {},
   "outputs": [
    {
     "name": "stdout",
     "output_type": "stream",
     "text": [
      "key :  A values :  10\n",
      "key :  B values :  20\n",
      "key :  C values :  30\n",
      "key :  D values :  40\n",
      "key :  E values :  40\n"
     ]
    }
   ],
   "source": [
    "dt = {'A':10,'B':20,'C':30,'D':40,'E':40} \n",
    "for key,value in dt.items(): \n",
    "    print(\"key : \",key,\"values : \",value)"
   ]
  },
  {
   "cell_type": "code",
   "execution_count": 38,
   "metadata": {},
   "outputs": [
    {
     "name": "stdout",
     "output_type": "stream",
     "text": [
      "2\n",
      "2\n"
     ]
    }
   ],
   "source": [
    "ls = [10,20,30,50,40,60,80,70]\n",
    "target  = 30 \n",
    "i = 0\n",
    "count = 0 \n",
    "for item in ls:\n",
    "    if item == target: \n",
    "        print(i)\n",
    "        break \n",
    "    i += 1\n",
    "    count += 1   \n",
    "print(count) "
   ]
  },
  {
   "cell_type": "code",
   "execution_count": 43,
   "metadata": {},
   "outputs": [
    {
     "name": "stdout",
     "output_type": "stream",
     "text": [
      "1\n",
      "2\n",
      "3\n",
      "4\n",
      "6\n",
      "7\n",
      "8\n",
      "9\n",
      "10\n"
     ]
    }
   ],
   "source": [
    "for i in range(1,11): \n",
    "    if i == 5:\n",
    "        continue\n",
    "    print(i)\n",
    "\n",
    "    "
   ]
  },
  {
   "cell_type": "code",
   "execution_count": 46,
   "metadata": {},
   "outputs": [
    {
     "name": "stdout",
     "output_type": "stream",
     "text": [
      "0\n"
     ]
    }
   ],
   "source": [
    "count = 0 \n",
    "for i in range(1,11):\n",
    "    continue \n",
    "    count += 1  \n",
    "print(count)"
   ]
  },
  {
   "cell_type": "code",
   "execution_count": null,
   "metadata": {},
   "outputs": [],
   "source": [
    "task 1. [10,42,5,153,6,9,85,7,5,4,5,6,1,4,5,2,36,75,84,69,58,45]\n",
    "write a program to find average of the above list. \n",
    "write a program to find average of a even numbers from the above list. \n",
    "write a program to find average of a even numbers from the above list and even number should be less than 50. \n",
    "\n",
    "task 2.  student_data = {'Name':['mohit','suresh','chandan','kartik'],\n",
    "                         'Marks':[25,36,45,46],\n",
    "                         'subject':'math'}\n",
    "find the no. of student in a \"student_data\"?\n",
    "add one more student record inside student_data \"kaalu\" and their marks = 38\n",
    "remove the student \"suresh\" and thier marks from the student_data."
   ]
  },
  {
   "cell_type": "code",
   "execution_count": null,
   "metadata": {},
   "outputs": [],
   "source": [
    "10,20,30 \n",
    "\n",
    "10+20+30/3"
   ]
  }
 ],
 "metadata": {
  "kernelspec": {
   "display_name": "Python 3",
   "language": "python",
   "name": "python3"
  },
  "language_info": {
   "codemirror_mode": {
    "name": "ipython",
    "version": 3
   },
   "file_extension": ".py",
   "mimetype": "text/x-python",
   "name": "python",
   "nbconvert_exporter": "python",
   "pygments_lexer": "ipython3",
   "version": "3.12.4"
  }
 },
 "nbformat": 4,
 "nbformat_minor": 2
}
