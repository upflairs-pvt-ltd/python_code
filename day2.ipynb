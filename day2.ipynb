{
 "cells": [
  {
   "cell_type": "code",
   "execution_count": null,
   "metadata": {},
   "outputs": [],
   "source": [
    ".ipynb  ==> interactive python notebook \n",
    ".py ==> "
   ]
  },
  {
   "cell_type": "markdown",
   "metadata": {},
   "source": [
    "<h2>This is my first python program</h2>"
   ]
  },
  {
   "cell_type": "code",
   "execution_count": null,
   "metadata": {},
   "outputs": [
    {
     "name": "stdout",
     "output_type": "stream",
     "text": [
      "hello world\n"
     ]
    }
   ],
   "source": [
    "print(\"hello world\") "
   ]
  },
  {
   "cell_type": "code",
   "execution_count": 11,
   "metadata": {},
   "outputs": [
    {
     "name": "stdout",
     "output_type": "stream",
     "text": [
      "-25\n",
      "<class 'int'>\n"
     ]
    }
   ],
   "source": [
    "num = -25 \n",
    "print(num)\n",
    "print(type(num))"
   ]
  },
  {
   "cell_type": "code",
   "execution_count": 7,
   "metadata": {},
   "outputs": [
    {
     "name": "stdout",
     "output_type": "stream",
     "text": [
      "25.25\n",
      "<class 'float'>\n"
     ]
    }
   ],
   "source": [
    "num = 25.25\n",
    "print(num)\n",
    "print(type(num))"
   ]
  },
  {
   "cell_type": "code",
   "execution_count": 8,
   "metadata": {},
   "outputs": [
    {
     "name": "stdout",
     "output_type": "stream",
     "text": [
      "True\n",
      "<class 'bool'>\n"
     ]
    }
   ],
   "source": [
    "num = True \n",
    "print(num)\n",
    "print(type(num))"
   ]
  },
  {
   "cell_type": "code",
   "execution_count": 9,
   "metadata": {},
   "outputs": [
    {
     "name": "stdout",
     "output_type": "stream",
     "text": [
      "False\n",
      "<class 'bool'>\n"
     ]
    }
   ],
   "source": [
    "num = False \n",
    "print(num)\n",
    "print(type(num))"
   ]
  },
  {
   "cell_type": "markdown",
   "metadata": {},
   "source": [
    "#### String  "
   ]
  },
  {
   "cell_type": "code",
   "execution_count": null,
   "metadata": {},
   "outputs": [],
   "source": []
  },
  {
   "cell_type": "code",
   "execution_count": 19,
   "metadata": {},
   "outputs": [
    {
     "name": "stdout",
     "output_type": "stream",
     "text": [
      "upflairs pvt ltd jaipur rajasthan\n",
      "<class 'str'>\n"
     ]
    }
   ],
   "source": [
    "st = \"upflairs pvt ltd jaipur rajasthan\"\n",
    "print(st)\n",
    "print(type(st))"
   ]
  },
  {
   "cell_type": "code",
   "execution_count": 14,
   "metadata": {},
   "outputs": [
    {
     "name": "stdout",
     "output_type": "stream",
     "text": [
      "upflairs pvt ltd jaipur rajasthan\n",
      "<class 'str'>\n"
     ]
    }
   ],
   "source": [
    "st = 'upflairs pvt ltd jaipur rajasthan'\n",
    "print(st)\n",
    "print(type(st))"
   ]
  },
  {
   "cell_type": "code",
   "execution_count": 15,
   "metadata": {},
   "outputs": [
    {
     "name": "stdout",
     "output_type": "stream",
     "text": [
      "upflairs pvt ltd jaipur rajasthan\n",
      "<class 'str'>\n"
     ]
    }
   ],
   "source": [
    "st = \"\"\"upflairs pvt ltd jaipur rajasthan\"\"\"\n",
    "print(st)\n",
    "print(type(st))"
   ]
  },
  {
   "cell_type": "code",
   "execution_count": 20,
   "metadata": {},
   "outputs": [
    {
     "name": "stdout",
     "output_type": "stream",
     "text": [
      "upflairs pvt\n",
      " ltd jaipur \n",
      "rajasthan\n",
      "<class 'str'>\n"
     ]
    }
   ],
   "source": [
    "st = '''upflairs pvt\n",
    " ltd jaipur \n",
    "rajasthan'''\n",
    "print(st)\n",
    "print(type(st))"
   ]
  },
  {
   "cell_type": "code",
   "execution_count": 21,
   "metadata": {},
   "outputs": [
    {
     "name": "stdout",
     "output_type": "stream",
     "text": [
      "UPFLAIRS\n"
     ]
    }
   ],
   "source": [
    "st = \"UPFLAIRS\"\n",
    "print(st)"
   ]
  },
  {
   "cell_type": "raw",
   "metadata": {
    "vscode": {
     "languageId": "raw"
    }
   },
   "source": [
    "INDEXING : position  value \n",
    "two types:\n",
    "positive indexing (Forwarding indexing)  0  --  n \n",
    "negative indexing (Backward indexing)   -1 \n",
    "\n",
    "U   P    F   L   A   I   R     S\n",
    "0   1    2   3   4   5   6     7   (positive indexing)\n",
    "-8  -7  -6  -5  -4  -3  -2    -1   (negative indexing)\n"
   ]
  },
  {
   "cell_type": "markdown",
   "metadata": {},
   "source": [
    "### string slicing "
   ]
  },
  {
   "cell_type": "raw",
   "metadata": {
    "vscode": {
     "languageId": "raw"
    }
   },
   "source": [
    "IA"
   ]
  },
  {
   "cell_type": "code",
   "execution_count": null,
   "metadata": {},
   "outputs": [
    {
     "name": "stdout",
     "output_type": "stream",
     "text": [
      "R\n"
     ]
    }
   ],
   "source": [
    "st = \"UPFLAIRS\"  # sigle character \n",
    "print(st[-2])"
   ]
  },
  {
   "cell_type": "markdown",
   "metadata": {},
   "source": [
    "##### print(st[start : stop  : jump ])"
   ]
  },
  {
   "cell_type": "code",
   "execution_count": null,
   "metadata": {},
   "outputs": [
    {
     "name": "stdout",
     "output_type": "stream",
     "text": [
      "AIR\n"
     ]
    }
   ],
   "source": [
    "print(st[-4:-1:-1])   ## multiple character"
   ]
  },
  {
   "cell_type": "code",
   "execution_count": null,
   "metadata": {},
   "outputs": [
    {
     "name": "stdout",
     "output_type": "stream",
     "text": [
      "8\n"
     ]
    }
   ],
   "source": [
    "# user defined and pre-defined \n",
    "st = \"UPFLAIRS\" \n",
    "print(len(st))  # no. char in the string "
   ]
  },
  {
   "cell_type": "code",
   "execution_count": 4,
   "metadata": {},
   "outputs": [
    {
     "data": {
      "text/plain": [
       "10"
      ]
     },
     "execution_count": 4,
     "metadata": {},
     "output_type": "execute_result"
    }
   ],
   "source": [
    "a = 10 \n",
    "a"
   ]
  },
  {
   "cell_type": "code",
   "execution_count": null,
   "metadata": {},
   "outputs": [
    {
     "name": "stdout",
     "output_type": "stream",
     "text": [
      "UPFLAIRS\n"
     ]
    }
   ],
   "source": [
    "st = \"upflairs\"\n",
    "print(st.upper()) # to convert inot upper case "
   ]
  },
  {
   "cell_type": "code",
   "execution_count": 7,
   "metadata": {},
   "outputs": [
    {
     "name": "stdout",
     "output_type": "stream",
     "text": [
      "upflairs\n"
     ]
    }
   ],
   "source": [
    "st = \"UPFLAIRS\"\n",
    "print(st.lower()) # to convert inot lower case "
   ]
  },
  {
   "cell_type": "code",
   "execution_count": 8,
   "metadata": {},
   "outputs": [
    {
     "name": "stdout",
     "output_type": "stream",
     "text": [
      "Upflairs Pvt Ltd Jaipur Rajasthan\n"
     ]
    }
   ],
   "source": [
    "st = \"upflairs pvt ltd jaipur rajasthan\"  \n",
    "print(st.title())"
   ]
  },
  {
   "cell_type": "code",
   "execution_count": 9,
   "metadata": {},
   "outputs": [
    {
     "name": "stdout",
     "output_type": "stream",
     "text": [
      "Upflairs pvt ltd jaipur rajasthan\n"
     ]
    }
   ],
   "source": [
    "st = \"upflairs pvt ltd jaipur rajasthan\"  \n",
    "print(st.capitalize())"
   ]
  },
  {
   "cell_type": "code",
   "execution_count": 14,
   "metadata": {},
   "outputs": [
    {
     "name": "stdout",
     "output_type": "stream",
     "text": [
      "UPFLAIRS PVT lTD jaipur RAJASTHAN\n"
     ]
    }
   ],
   "source": [
    "st = \"upflairs pvt Ltd JAIPUR rajasthan\"  \n",
    "print(st.swapcase())"
   ]
  },
  {
   "cell_type": "code",
   "execution_count": 17,
   "metadata": {},
   "outputs": [
    {
     "name": "stdout",
     "output_type": "stream",
     "text": [
      "True\n"
     ]
    }
   ],
   "source": [
    "st = \"upflairs\"\n",
    "print(st.islower())"
   ]
  },
  {
   "cell_type": "code",
   "execution_count": null,
   "metadata": {},
   "outputs": [
    {
     "name": "stdout",
     "output_type": "stream",
     "text": [
      "False\n"
     ]
    }
   ],
   "source": [
    "st = \"UPFLAI RS\"\n",
    "print(st.isupper())"
   ]
  },
  {
   "cell_type": "code",
   "execution_count": 3,
   "metadata": {},
   "outputs": [
    {
     "name": "stdout",
     "output_type": "stream",
     "text": [
      "dfd         upflars       \n",
      "dfd         upflars\n"
     ]
    }
   ],
   "source": [
    "st = \"        upflars       \" \n",
    "print(st)\n",
    "print(st.strip())  # it removes the space from both side "
   ]
  },
  {
   "cell_type": "code",
   "execution_count": 4,
   "metadata": {},
   "outputs": [
    {
     "name": "stdout",
     "output_type": "stream",
     "text": [
      "        upflars       \n",
      "upflars       \n"
     ]
    }
   ],
   "source": [
    "st = \"        upflars       \" \n",
    "print(st)\n",
    "print(st.lstrip())  # it removes the space from left side "
   ]
  },
  {
   "cell_type": "code",
   "execution_count": 5,
   "metadata": {},
   "outputs": [
    {
     "name": "stdout",
     "output_type": "stream",
     "text": [
      "        upflars       \n",
      "        upflars\n"
     ]
    }
   ],
   "source": [
    "st = \"        upflars       \" \n",
    "print(st)\n",
    "print(st.rstrip())  # it removes the space from right side "
   ]
  },
  {
   "cell_type": "code",
   "execution_count": 6,
   "metadata": {},
   "outputs": [
    {
     "name": "stdout",
     "output_type": "stream",
     "text": [
      "8\n"
     ]
    }
   ],
   "source": [
    "st = \"upflairs\"\n",
    "print(len(st))  # no. of character "
   ]
  },
  {
   "cell_type": "code",
   "execution_count": 10,
   "metadata": {},
   "outputs": [
    {
     "name": "stdout",
     "output_type": "stream",
     "text": [
      "13\n",
      "13\n"
     ]
    }
   ],
   "source": [
    "st = \"upflairs pvt ltd jaipur ltd rajasthan\" \n",
    "# st.find()\n",
    "# st.index()  \n",
    "print(st.find('ltd'))\n",
    "print(st.index('ltd'))\n"
   ]
  },
  {
   "cell_type": "code",
   "execution_count": 11,
   "metadata": {},
   "outputs": [
    {
     "name": "stdout",
     "output_type": "stream",
     "text": [
      "1\n",
      "1\n"
     ]
    }
   ],
   "source": [
    "st = \"upflairs pvt ltd jaipur rajasthan\" \n",
    "# st.find()\n",
    "# st.index()  \n",
    "print(st.find('p'))\n",
    "print(st.index('p'))"
   ]
  },
  {
   "cell_type": "code",
   "execution_count": 13,
   "metadata": {},
   "outputs": [
    {
     "ename": "ValueError",
     "evalue": "substring not found",
     "output_type": "error",
     "traceback": [
      "\u001b[1;31m---------------------------------------------------------------------------\u001b[0m",
      "\u001b[1;31mValueError\u001b[0m                                Traceback (most recent call last)",
      "Cell \u001b[1;32mIn[13], line 5\u001b[0m\n\u001b[0;32m      1\u001b[0m st \u001b[38;5;241m=\u001b[39m \u001b[38;5;124m\"\u001b[39m\u001b[38;5;124mupflairs pvt ltd jaipur rajasthan\u001b[39m\u001b[38;5;124m\"\u001b[39m \n\u001b[0;32m      2\u001b[0m \u001b[38;5;66;03m# st.find()\u001b[39;00m\n\u001b[0;32m      3\u001b[0m \u001b[38;5;66;03m# st.index()  \u001b[39;00m\n\u001b[0;32m      4\u001b[0m \u001b[38;5;66;03m# print(st.find('z'))   # not available \u001b[39;00m\n\u001b[1;32m----> 5\u001b[0m \u001b[38;5;28mprint\u001b[39m(\u001b[43mst\u001b[49m\u001b[38;5;241;43m.\u001b[39;49m\u001b[43mindex\u001b[49m\u001b[43m(\u001b[49m\u001b[38;5;124;43m'\u001b[39;49m\u001b[38;5;124;43mz\u001b[39;49m\u001b[38;5;124;43m'\u001b[39;49m\u001b[43m)\u001b[49m)\n",
      "\u001b[1;31mValueError\u001b[0m: substring not found"
     ]
    }
   ],
   "source": [
    "st = \"upflairs pvt ltd jaipur rajasthan\" \n",
    "# st.find()\n",
    "# st.index()  \n",
    "# print(st.find('z'))   # not available \n",
    "print(st.index('z'))"
   ]
  },
  {
   "cell_type": "code",
   "execution_count": 14,
   "metadata": {},
   "outputs": [
    {
     "name": "stdout",
     "output_type": "stream",
     "text": [
      "1\n"
     ]
    }
   ],
   "source": [
    "st = \"upflairs pvt ltd jaipur rajasthan\"  \n",
    "# print(st.find('p')) \n"
   ]
  },
  {
   "cell_type": "code",
   "execution_count": 20,
   "metadata": {},
   "outputs": [
    {
     "name": "stdout",
     "output_type": "stream",
     "text": [
      "Hey this is  ranjit singh  and i am  27  year old from  mathura\n"
     ]
    }
   ],
   "source": [
    "name = \"ranjit singh\"\n",
    "age = 27 \n",
    "city = \"mathura\" \n",
    "print(\"Hey this is \",name,\" and i am \",age,\" year old from \",city)"
   ]
  },
  {
   "cell_type": "code",
   "execution_count": 26,
   "metadata": {},
   "outputs": [
    {
     "name": "stdout",
     "output_type": "stream",
     "text": [
      "Your p is present at this location :  1\n",
      "No. of times :  3\n"
     ]
    }
   ],
   "source": [
    "st = \"upflairs pvt ltd jaipur rajasthan \"  \n",
    "print(\"Your p is present at this location : \",st.find('p')) \n",
    "print(\"No. of times : \",  st.count('p'))"
   ]
  },
  {
   "cell_type": "code",
   "execution_count": 29,
   "metadata": {},
   "outputs": [
    {
     "name": "stdout",
     "output_type": "stream",
     "text": [
      "Your p is present at this location :  20\n"
     ]
    }
   ],
   "source": [
    "st = \"upflairs pvt ltd jaipur rajasthan \"  \n",
    "print(\"Your p is present at this location : \",st.find('p',10)) "
   ]
  },
  {
   "cell_type": "code",
   "execution_count": 32,
   "metadata": {},
   "outputs": [
    {
     "name": "stdout",
     "output_type": "stream",
     "text": [
      "True\n"
     ]
    }
   ],
   "source": [
    "st = \"upflairs pvt ltd jaipur rajasthan\"  \n",
    "print(st.endswith(\"an\"))"
   ]
  },
  {
   "cell_type": "code",
   "execution_count": 34,
   "metadata": {},
   "outputs": [
    {
     "name": "stdout",
     "output_type": "stream",
     "text": [
      "True\n"
     ]
    }
   ],
   "source": [
    "st = \"upflairs pvt ltd jaipur rajasthan\"  \n",
    "print(st.startswith(\"up\"))"
   ]
  },
  {
   "cell_type": "code",
   "execution_count": null,
   "metadata": {},
   "outputs": [],
   "source": [
    "# string , list , tuple , dict , set , \n",
    "# mutable  (changeble )\n",
    "# imutable (non-changeble)\n",
    "\n",
    "# string ==> imutable "
   ]
  },
  {
   "cell_type": "code",
   "execution_count": 39,
   "metadata": {},
   "outputs": [
    {
     "name": "stdout",
     "output_type": "stream",
     "text": [
      "Delvex pvt ltd jaipur rajasthan\n",
      "upflairs pvt ltd jaipur rajasthan\n"
     ]
    }
   ],
   "source": [
    "st = \"upflairs pvt ltd jaipur rajasthan\" \n",
    "print(st.replace(\"upflairs\",\"Delvex\"))\n",
    "print(st)"
   ]
  },
  {
   "cell_type": "code",
   "execution_count": 41,
   "metadata": {},
   "outputs": [
    {
     "name": "stdout",
     "output_type": "stream",
     "text": [
      "Delvex pvt ltd jaipur rajasthan\n",
      "upflairs pvt ltd jaipur rajasthan\n"
     ]
    }
   ],
   "source": [
    "st = \"upflairs pvt ltd jaipur rajasthan\" \n",
    "st2 = st.replace(\"upflairs\",\"Delvex\")\n",
    "print(st2)\n",
    "print(st)"
   ]
  },
  {
   "cell_type": "code",
   "execution_count": 38,
   "metadata": {},
   "outputs": [
    {
     "name": "stdout",
     "output_type": "stream",
     "text": [
      "upflairs pvt ltd jaipur rajasthan\n"
     ]
    }
   ],
   "source": [
    "print(st)"
   ]
  },
  {
   "cell_type": "code",
   "execution_count": 44,
   "metadata": {},
   "outputs": [
    {
     "name": "stdout",
     "output_type": "stream",
     "text": [
      "20\n",
      "1\n"
     ]
    }
   ],
   "source": [
    "st = \"upflairs pvt ltd jaipur rajasthan\" \n",
    "print(st.rfind('p'))\n",
    "print(st.find('p'))\n"
   ]
  },
  {
   "cell_type": "code",
   "execution_count": 45,
   "metadata": {},
   "outputs": [
    {
     "name": "stdout",
     "output_type": "stream",
     "text": [
      "['upflairs', 'pvt', 'ltd', 'jaipur', 'rajasthan']\n"
     ]
    }
   ],
   "source": [
    "st = \"upflairs pvt ltd jaipur rajasthan\"\n",
    "print(st.split())  # by default it devides by the space "
   ]
  },
  {
   "cell_type": "code",
   "execution_count": 46,
   "metadata": {},
   "outputs": [
    {
     "name": "stdout",
     "output_type": "stream",
     "text": [
      "['upflairs pvt ltd ', ' jaipur rajasthan']\n"
     ]
    }
   ],
   "source": [
    "st = \"upflairs pvt ltd , jaipur rajasthan\"\n",
    "print(st.split(\",\"))  # by default it devides by the space "
   ]
  },
  {
   "cell_type": "code",
   "execution_count": 47,
   "metadata": {},
   "outputs": [
    {
     "name": "stdout",
     "output_type": "stream",
     "text": [
      "hey this is {} from {} and i am {} year old\n"
     ]
    }
   ],
   "source": [
    "name = \"radhey\"\n",
    "age = 27 \n",
    "city = \"mathura\" \n",
    "st = \"hey this is {} from {} and i am {} year old\"\n",
    "print(st)"
   ]
  },
  {
   "cell_type": "code",
   "execution_count": 49,
   "metadata": {},
   "outputs": [
    {
     "name": "stdout",
     "output_type": "stream",
     "text": [
      "hey this is ranjit from mathura and i am 27 year old\n"
     ]
    }
   ],
   "source": [
    "name = \"ranjit\"\n",
    "age = 27 \n",
    "city = \"mathura\" \n",
    "st = \"hey this is {} from {} and i am {} year old\".format(name,city,age)\n",
    "print(st)"
   ]
  },
  {
   "cell_type": "code",
   "execution_count": 52,
   "metadata": {},
   "outputs": [
    {
     "name": "stdout",
     "output_type": "stream",
     "text": [
      "hey this is ranjit from mathura and i am 27 year old\n"
     ]
    }
   ],
   "source": [
    "# formated string \"f string \"\n",
    "name = \"ranjit\"\n",
    "age = 27 \n",
    "city = \"mathura\" \n",
    "st = f\"hey this is {name} from {city} and i am {age} year old\"\n",
    "print(st)"
   ]
  },
  {
   "cell_type": "code",
   "execution_count": null,
   "metadata": {},
   "outputs": [],
   "source": [
    "name = \"ranjit singh\"\n",
    "age = 27 \n",
    "city = \"mathura\" \n",
    "print(\"Hey this is \",name,\" and i am \",age,\" year old from \",city)"
   ]
  },
  {
   "cell_type": "code",
   "execution_count": 61,
   "metadata": {},
   "outputs": [
    {
     "name": "stdout",
     "output_type": "stream",
     "text": [
      "hello world hello world \n"
     ]
    }
   ],
   "source": [
    "print(\"hello world \"  *  2)  # replication method "
   ]
  },
  {
   "cell_type": "code",
   "execution_count": 62,
   "metadata": {},
   "outputs": [
    {
     "name": "stdout",
     "output_type": "stream",
     "text": [
      "Ranjit Singh\n"
     ]
    }
   ],
   "source": [
    "st1 = \"Ranjit \"\n",
    "st2 = \"Singh\"\n",
    "st3  = st1 + st2   # concatenate \n",
    "print(st3)"
   ]
  },
  {
   "cell_type": "code",
   "execution_count": 63,
   "metadata": {},
   "outputs": [
    {
     "ename": "TypeError",
     "evalue": "can only concatenate str (not \"int\") to str",
     "output_type": "error",
     "traceback": [
      "\u001b[1;31m---------------------------------------------------------------------------\u001b[0m",
      "\u001b[1;31mTypeError\u001b[0m                                 Traceback (most recent call last)",
      "Cell \u001b[1;32mIn[63], line 4\u001b[0m\n\u001b[0;32m      2\u001b[0m st2 \u001b[38;5;241m=\u001b[39m \u001b[38;5;124m\"\u001b[39m\u001b[38;5;124mSingh\u001b[39m\u001b[38;5;124m\"\u001b[39m\n\u001b[0;32m      3\u001b[0m age \u001b[38;5;241m=\u001b[39m \u001b[38;5;241m27\u001b[39m\n\u001b[1;32m----> 4\u001b[0m st3  \u001b[38;5;241m=\u001b[39m \u001b[43mst1\u001b[49m\u001b[43m \u001b[49m\u001b[38;5;241;43m+\u001b[39;49m\u001b[43m \u001b[49m\u001b[43mst2\u001b[49m\u001b[43m \u001b[49m\u001b[38;5;241;43m+\u001b[39;49m\u001b[43m \u001b[49m\u001b[43mage\u001b[49m   \u001b[38;5;66;03m# concatenate \u001b[39;00m\n\u001b[0;32m      5\u001b[0m \u001b[38;5;28mprint\u001b[39m(st3) \n",
      "\u001b[1;31mTypeError\u001b[0m: can only concatenate str (not \"int\") to str"
     ]
    }
   ],
   "source": [
    "st1 = \"Ranjit \"\n",
    "st2 = \"Singh\"\n",
    "age = 27\n",
    "st3  = st1 + st2 + age   # concatenate \n",
    "print(st3) "
   ]
  },
  {
   "cell_type": "code",
   "execution_count": 64,
   "metadata": {},
   "outputs": [
    {
     "name": "stdout",
     "output_type": "stream",
     "text": [
      "hello world\n",
      "hello world\n",
      "hello world\n",
      "hello world\n"
     ]
    }
   ],
   "source": [
    "print(\"hello world\")  # occupied single line \n",
    "print(\"hello world\")\n",
    "print(\"hello world\")\n",
    "print(\"hello world\")"
   ]
  },
  {
   "cell_type": "code",
   "execution_count": 66,
   "metadata": {},
   "outputs": [
    {
     "name": "stdout",
     "output_type": "stream",
     "text": [
      "hello world\n",
      "hello \t world\n"
     ]
    }
   ],
   "source": [
    "print(\"hello world\")\n",
    "print(\"hello \\t world\")  # \\t ==> tab \n"
   ]
  },
  {
   "cell_type": "code",
   "execution_count": 67,
   "metadata": {},
   "outputs": [
    {
     "name": "stdout",
     "output_type": "stream",
     "text": [
      "hello world\n",
      "hello \n",
      " world\n"
     ]
    }
   ],
   "source": [
    "print(\"hello world\")\n",
    "print(\"hello \\n world\")  # \\t ==> tab "
   ]
  },
  {
   "cell_type": "code",
   "execution_count": 71,
   "metadata": {},
   "outputs": [
    {
     "name": "stdout",
     "output_type": "stream",
     "text": [
      "hello world\n",
      "hello \\ world\n"
     ]
    }
   ],
   "source": [
    "print(\"hello world\")\n",
    "print(\"hello \\\\ world\")  # \\t ==> tab "
   ]
  },
  {
   "cell_type": "code",
   "execution_count": 74,
   "metadata": {},
   "outputs": [
    {
     "name": "stdout",
     "output_type": "stream",
     "text": [
      "hello \\t world\n"
     ]
    }
   ],
   "source": [
    "st = r\"hello \\t world\"  # raw string \n",
    "print(st)"
   ]
  }
 ],
 "metadata": {
  "kernelspec": {
   "display_name": "Python 3",
   "language": "python",
   "name": "python3"
  },
  "language_info": {
   "codemirror_mode": {
    "name": "ipython",
    "version": 3
   },
   "file_extension": ".py",
   "mimetype": "text/x-python",
   "name": "python",
   "nbconvert_exporter": "python",
   "pygments_lexer": "ipython3",
   "version": "3.12.4"
  }
 },
 "nbformat": 4,
 "nbformat_minor": 2
}
