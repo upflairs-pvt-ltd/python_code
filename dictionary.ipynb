{
 "cells": [
  {
   "cell_type": "markdown",
   "metadata": {},
   "source": [
    "### Dictionary \n",
    "multiple items store, but in a pair form (key:value)"
   ]
  },
  {
   "cell_type": "code",
   "execution_count": 2,
   "metadata": {},
   "outputs": [
    {
     "name": "stdout",
     "output_type": "stream",
     "text": [
      "{'name': 'radhey', 'roll_no': 101, 'branch': 'cse', 'city': 'mathura'}\n",
      "<class 'dict'>\n"
     ]
    }
   ],
   "source": [
    "# indexing   \n",
    "st = {\"name\":\"radhey\",\"roll_no\":101,\"branch\":'cse',\"city\":'mathura'}\n",
    "print(st)\n",
    "print(type(st))"
   ]
  },
  {
   "cell_type": "code",
   "execution_count": 8,
   "metadata": {},
   "outputs": [
    {
     "name": "stdout",
     "output_type": "stream",
     "text": [
      "{'A': 10, 'B': 20, 'C': 30, 'D': 40.25}\n",
      "<class 'dict'>\n"
     ]
    }
   ],
   "source": [
    "dt2 = {\"A\":10,\"B\":20,\"C\":30,\"D\":40.25}\n",
    "print(dt2)\n",
    "print(type(dt2))"
   ]
  },
  {
   "cell_type": "code",
   "execution_count": 6,
   "metadata": {},
   "outputs": [
    {
     "name": "stdout",
     "output_type": "stream",
     "text": [
      "30\n"
     ]
    }
   ],
   "source": [
    "# indixing == key \n",
    "print(dt2[\"C\"])"
   ]
  },
  {
   "cell_type": "code",
   "execution_count": 9,
   "metadata": {},
   "outputs": [
    {
     "name": "stdout",
     "output_type": "stream",
     "text": [
      "{'A': 10, 'B': 100, 'C': 30, 'D': 40, 'E': 25.2, 'F': True, 'G': (14, 25, 36), 'H': [10, 20, 30]}\n",
      "<class 'dict'>\n"
     ]
    }
   ],
   "source": [
    "# duplicate key is not allowed\n",
    "dt2 = {\"A\":10,\"B\":20,\"C\":30,\"D\":40,\"B\":100,\"E\":25.2,\"F\":True,\"G\":(14,25,36),\"H\":[10,20,30]}\n",
    "print(dt2)\n",
    "print(type(dt2))"
   ]
  },
  {
   "cell_type": "code",
   "execution_count": 10,
   "metadata": {},
   "outputs": [
    {
     "name": "stdout",
     "output_type": "stream",
     "text": [
      "{'A': 10, 'B': 100, 'C': 30, 'D': 40, 'F': {8, 52, 14, 63}}\n",
      "<class 'dict'>\n"
     ]
    }
   ],
   "source": [
    "dt2 = {\"A\":10,\"B\":20,\"C\":30,\"D\":40,\"B\":100,\"F\":{14,52,63,8}}\n",
    "print(dt2)\n",
    "print(type(dt2))"
   ]
  },
  {
   "cell_type": "code",
   "execution_count": 15,
   "metadata": {},
   "outputs": [
    {
     "name": "stdout",
     "output_type": "stream",
     "text": [
      "{'Abc': 10, 'BBBBBBBB': 20, 5: 30, 'D': 40, 25.2: 100, True: 85}\n",
      "<class 'dict'>\n"
     ]
    }
   ],
   "source": [
    "dt2 = {\"Abc\":10,\"BBBBBBBB\":20,5:30,\"D\":40,25.2:100,True:85}\n",
    "print(dt2)\n",
    "print(type(dt2))"
   ]
  },
  {
   "cell_type": "code",
   "execution_count": null,
   "metadata": {},
   "outputs": [],
   "source": [
    "dt2 = {\"A\":10,\"B\":20,\"C\":30,\"D\":40.25}\n",
    "print(dt2)\n",
    "print(type(dt2))"
   ]
  },
  {
   "cell_type": "code",
   "execution_count": 16,
   "metadata": {},
   "outputs": [
    {
     "name": "stdout",
     "output_type": "stream",
     "text": [
      "[10, 20, 30, 40.25]\n",
      "<class 'list'>\n"
     ]
    }
   ],
   "source": [
    "ls = [10,20,30,40.25]\n",
    "print(ls)\n",
    "print(type(ls))"
   ]
  },
  {
   "cell_type": "code",
   "execution_count": 20,
   "metadata": {},
   "outputs": [
    {
     "name": "stdout",
     "output_type": "stream",
     "text": [
      "{'results': [{'gender': 'male', 'name': {'title': 'Mr', 'first': 'vikas', 'last': 'singh'}}, {'location': 'jaipur'}, {'number': 956924}]}\n",
      "<class 'dict'>\n"
     ]
    }
   ],
   "source": [
    "dt = {\"results\":[{\"gender\":\"male\",\"name\":{\"title\":\"Mr\",\"first\":\"vikas\",\"last\":\"singh\"}},{\"location\":\"jaipur\"},{\"number\":956924}]}\n",
    "print(dt)\n",
    "print(type(dt))"
   ]
  },
  {
   "cell_type": "code",
   "execution_count": 21,
   "metadata": {},
   "outputs": [
    {
     "name": "stdout",
     "output_type": "stream",
     "text": [
      "{'A': 10, 'B': 20, 'C': 30, 'D': 40.25}\n",
      "<class 'dict'>\n"
     ]
    }
   ],
   "source": [
    "dt2 = {\"A\":10,\"B\":20,\"C\":30,\"D\":40.25}\n",
    "print(dt2)\n",
    "print(type(dt2))"
   ]
  },
  {
   "cell_type": "code",
   "execution_count": 22,
   "metadata": {},
   "outputs": [
    {
     "name": "stdout",
     "output_type": "stream",
     "text": [
      "dict_keys(['A', 'B', 'C', 'D'])\n"
     ]
    }
   ],
   "source": [
    "print(dt2.keys())"
   ]
  },
  {
   "cell_type": "code",
   "execution_count": 23,
   "metadata": {},
   "outputs": [
    {
     "name": "stdout",
     "output_type": "stream",
     "text": [
      "dict_values([10, 20, 30, 40.25])\n"
     ]
    }
   ],
   "source": [
    "print(dt2.values())"
   ]
  },
  {
   "cell_type": "code",
   "execution_count": 26,
   "metadata": {},
   "outputs": [
    {
     "name": "stdout",
     "output_type": "stream",
     "text": [
      "{'results': [{'gender': 'male', 'name': {'title': 'Mr', 'first': 'vikas', 'last': 'singh'}}, {'location': 'jaipur'}, {'number': 956924}]}\n",
      "<class 'dict'>\n"
     ]
    }
   ],
   "source": [
    "dt = {\"results\":[{\"gender\":\"male\",\"name\":{\"title\":\"Mr\",\"first\":\"vikas\",\"last\":\"singh\"}},{\"location\":\"jaipur\"},{\"number\":956924}]}\n",
    "print(dt)\n",
    "print(type(dt))"
   ]
  },
  {
   "cell_type": "code",
   "execution_count": 27,
   "metadata": {},
   "outputs": [
    {
     "name": "stdout",
     "output_type": "stream",
     "text": [
      "dict_keys(['results'])\n"
     ]
    }
   ],
   "source": [
    "print(dt.keys())"
   ]
  },
  {
   "cell_type": "code",
   "execution_count": 25,
   "metadata": {},
   "outputs": [
    {
     "name": "stdout",
     "output_type": "stream",
     "text": [
      "dict_values([1, {'c': 10}])\n"
     ]
    }
   ],
   "source": [
    "dt = {'a':1,'b':{'c':10}}\n",
    "print(dt.values())"
   ]
  },
  {
   "cell_type": "code",
   "execution_count": null,
   "metadata": {},
   "outputs": [],
   "source": [
    "insertion , deletion ,update  \n",
    "accessing "
   ]
  }
 ],
 "metadata": {
  "kernelspec": {
   "display_name": "Python 3",
   "language": "python",
   "name": "python3"
  },
  "language_info": {
   "codemirror_mode": {
    "name": "ipython",
    "version": 3
   },
   "file_extension": ".py",
   "mimetype": "text/x-python",
   "name": "python",
   "nbconvert_exporter": "python",
   "pygments_lexer": "ipython3",
   "version": "3.12.4"
  }
 },
 "nbformat": 4,
 "nbformat_minor": 2
}
