{
 "cells": [
  {
   "cell_type": "markdown",
   "metadata": {},
   "source": [
    "### Dictionary \n",
    "multiple items store, but in a pair form (key:value)"
   ]
  },
  {
   "cell_type": "code",
   "execution_count": 1,
   "metadata": {},
   "outputs": [
    {
     "name": "stdout",
     "output_type": "stream",
     "text": [
      "{'name': 'radhey', 'roll_no': 101, 'branch': 'cse', 'city': 'mathura'}\n",
      "<class 'dict'>\n"
     ]
    }
   ],
   "source": [
    "# indexing   \n",
    "st = {\"name\":\"radhey\",\"roll_no\":101,\"branch\":'cse',\"city\":'mathura'}\n",
    "print(st)\n",
    "print(type(st))"
   ]
  },
  {
   "cell_type": "code",
   "execution_count": 8,
   "metadata": {},
   "outputs": [
    {
     "name": "stdout",
     "output_type": "stream",
     "text": [
      "{'A': 10, 'B': 20, 'C': 30, 'D': 40.25}\n",
      "<class 'dict'>\n"
     ]
    }
   ],
   "source": [
    "dt2 = {\"A\":10,\"B\":20,\"C\":30,\"D\":40.25}\n",
    "print(dt2)\n",
    "print(type(dt2))"
   ]
  },
  {
   "cell_type": "code",
   "execution_count": 6,
   "metadata": {},
   "outputs": [
    {
     "name": "stdout",
     "output_type": "stream",
     "text": [
      "30\n"
     ]
    }
   ],
   "source": [
    "# indixing == key \n",
    "print(dt2[\"C\"])"
   ]
  },
  {
   "cell_type": "code",
   "execution_count": 9,
   "metadata": {},
   "outputs": [
    {
     "name": "stdout",
     "output_type": "stream",
     "text": [
      "{'A': 10, 'B': 100, 'C': 30, 'D': 40, 'E': 25.2, 'F': True, 'G': (14, 25, 36), 'H': [10, 20, 30]}\n",
      "<class 'dict'>\n"
     ]
    }
   ],
   "source": [
    "# duplicate key is not allowed\n",
    "dt2 = {\"A\":10,\"B\":20,\"C\":30,\"D\":40,\"B\":100,\"E\":25.2,\"F\":True,\"G\":(14,25,36),\"H\":[10,20,30]}\n",
    "print(dt2)\n",
    "print(type(dt2))"
   ]
  },
  {
   "cell_type": "code",
   "execution_count": 10,
   "metadata": {},
   "outputs": [
    {
     "name": "stdout",
     "output_type": "stream",
     "text": [
      "{'A': 10, 'B': 100, 'C': 30, 'D': 40, 'F': {8, 52, 14, 63}}\n",
      "<class 'dict'>\n"
     ]
    }
   ],
   "source": [
    "dt2 = {\"A\":10,\"B\":20,\"C\":30,\"D\":40,\"B\":100,\"F\":{14,52,63,8}}\n",
    "print(dt2)\n",
    "print(type(dt2))"
   ]
  },
  {
   "cell_type": "code",
   "execution_count": 15,
   "metadata": {},
   "outputs": [
    {
     "name": "stdout",
     "output_type": "stream",
     "text": [
      "{'Abc': 10, 'BBBBBBBB': 20, 5: 30, 'D': 40, 25.2: 100, True: 85}\n",
      "<class 'dict'>\n"
     ]
    }
   ],
   "source": [
    "dt2 = {\"Abc\":10,\"BBBBBBBB\":20,5:30,\"D\":40,25.2:100,True:85}\n",
    "print(dt2)\n",
    "print(type(dt2))"
   ]
  },
  {
   "cell_type": "code",
   "execution_count": null,
   "metadata": {},
   "outputs": [],
   "source": [
    "dt2 = {\"A\":10,\"B\":20,\"C\":30,\"D\":40.25}\n",
    "print(dt2)\n",
    "print(type(dt2))"
   ]
  },
  {
   "cell_type": "code",
   "execution_count": 16,
   "metadata": {},
   "outputs": [
    {
     "name": "stdout",
     "output_type": "stream",
     "text": [
      "[10, 20, 30, 40.25]\n",
      "<class 'list'>\n"
     ]
    }
   ],
   "source": [
    "ls = [10,20,30,40.25]\n",
    "print(ls)\n",
    "print(type(ls))"
   ]
  },
  {
   "cell_type": "code",
   "execution_count": 20,
   "metadata": {},
   "outputs": [
    {
     "name": "stdout",
     "output_type": "stream",
     "text": [
      "{'results': [{'gender': 'male', 'name': {'title': 'Mr', 'first': 'vikas', 'last': 'singh'}}, {'location': 'jaipur'}, {'number': 956924}]}\n",
      "<class 'dict'>\n"
     ]
    }
   ],
   "source": [
    "dt = {\"results\":[{\"gender\":\"male\",\"name\":{\"title\":\"Mr\",\"first\":\"vikas\",\"last\":\"singh\"}},{\"location\":\"jaipur\"},{\"number\":956924}]}\n",
    "print(dt)\n",
    "print(type(dt))"
   ]
  },
  {
   "cell_type": "code",
   "execution_count": 21,
   "metadata": {},
   "outputs": [
    {
     "name": "stdout",
     "output_type": "stream",
     "text": [
      "{'A': 10, 'B': 20, 'C': 30, 'D': 40.25}\n",
      "<class 'dict'>\n"
     ]
    }
   ],
   "source": [
    "dt2 = {\"A\":10,\"B\":20,\"C\":30,\"D\":40.25}\n",
    "print(dt2)\n",
    "print(type(dt2))"
   ]
  },
  {
   "cell_type": "code",
   "execution_count": 22,
   "metadata": {},
   "outputs": [
    {
     "name": "stdout",
     "output_type": "stream",
     "text": [
      "dict_keys(['A', 'B', 'C', 'D'])\n"
     ]
    }
   ],
   "source": [
    "print(dt2.keys())"
   ]
  },
  {
   "cell_type": "code",
   "execution_count": 23,
   "metadata": {},
   "outputs": [
    {
     "name": "stdout",
     "output_type": "stream",
     "text": [
      "dict_values([10, 20, 30, 40.25])\n"
     ]
    }
   ],
   "source": [
    "print(dt2.values())"
   ]
  },
  {
   "cell_type": "code",
   "execution_count": 26,
   "metadata": {},
   "outputs": [
    {
     "name": "stdout",
     "output_type": "stream",
     "text": [
      "{'results': [{'gender': 'male', 'name': {'title': 'Mr', 'first': 'vikas', 'last': 'singh'}}, {'location': 'jaipur'}, {'number': 956924}]}\n",
      "<class 'dict'>\n"
     ]
    }
   ],
   "source": [
    "dt = {\"results\":[{\"gender\":\"male\",\"name\":{\"title\":\"Mr\",\"first\":\"vikas\",\"last\":\"singh\"}},{\"location\":\"jaipur\"},{\"number\":956924}]}\n",
    "print(dt)\n",
    "print(type(dt))"
   ]
  },
  {
   "cell_type": "code",
   "execution_count": 27,
   "metadata": {},
   "outputs": [
    {
     "name": "stdout",
     "output_type": "stream",
     "text": [
      "dict_keys(['results'])\n"
     ]
    }
   ],
   "source": [
    "print(dt.keys())"
   ]
  },
  {
   "cell_type": "code",
   "execution_count": 25,
   "metadata": {},
   "outputs": [
    {
     "name": "stdout",
     "output_type": "stream",
     "text": [
      "dict_values([1, {'c': 10}])\n"
     ]
    }
   ],
   "source": [
    "dt = {'a':1,'b':{'c':10}}\n",
    "print(dt.values())"
   ]
  },
  {
   "cell_type": "code",
   "execution_count": null,
   "metadata": {},
   "outputs": [],
   "source": [
    "\n",
    "accessing , update,  insertion , deletion ,  \n"
   ]
  },
  {
   "cell_type": "code",
   "execution_count": 2,
   "metadata": {},
   "outputs": [
    {
     "name": "stdout",
     "output_type": "stream",
     "text": [
      "{'A': 10, 'B': 20, 'C': 30, 'D': 40.25}\n",
      "<class 'dict'>\n"
     ]
    }
   ],
   "source": [
    "dt2 = {\"A\":10,\"B\":20,\"C\":30,\"D\":40.25}\n",
    "print(dt2)\n",
    "print(type(dt2))"
   ]
  },
  {
   "cell_type": "code",
   "execution_count": 8,
   "metadata": {},
   "outputs": [
    {
     "ename": "KeyError",
     "evalue": "30",
     "output_type": "error",
     "traceback": [
      "\u001b[1;31m---------------------------------------------------------------------------\u001b[0m",
      "\u001b[1;31mKeyError\u001b[0m                                  Traceback (most recent call last)",
      "Cell \u001b[1;32mIn[8], line 1\u001b[0m\n\u001b[1;32m----> 1\u001b[0m \u001b[43mdt2\u001b[49m\u001b[43m[\u001b[49m\u001b[38;5;241;43m30\u001b[39;49m\u001b[43m]\u001b[49m\n",
      "\u001b[1;31mKeyError\u001b[0m: 30"
     ]
    }
   ],
   "source": [
    "dt2[30]"
   ]
  },
  {
   "cell_type": "code",
   "execution_count": 9,
   "metadata": {},
   "outputs": [
    {
     "data": {
      "text/plain": [
       "{'A': 10, 'B': 20, 'C': 30, 'D': 40.25}"
      ]
     },
     "execution_count": 9,
     "metadata": {},
     "output_type": "execute_result"
    }
   ],
   "source": [
    "dt2"
   ]
  },
  {
   "cell_type": "code",
   "execution_count": 13,
   "metadata": {},
   "outputs": [
    {
     "name": "stdout",
     "output_type": "stream",
     "text": [
      "yes\n"
     ]
    }
   ],
   "source": [
    "if \"A\" in dt2:\n",
    "    print(\"yes\")\n",
    "else:\n",
    "    print('No')"
   ]
  },
  {
   "cell_type": "code",
   "execution_count": 14,
   "metadata": {},
   "outputs": [
    {
     "name": "stdout",
     "output_type": "stream",
     "text": [
      "[('A', 10), ('B', 20), ('C', 30), ('D', 40)]\n",
      "<class 'list'>\n"
     ]
    }
   ],
   "source": [
    "ls = [(\"A\",10),(\"B\",20),(\"C\",30),(\"D\",40)]\n",
    "print(ls)\n",
    "print(type(ls))"
   ]
  },
  {
   "cell_type": "code",
   "execution_count": 15,
   "metadata": {},
   "outputs": [
    {
     "data": {
      "text/plain": [
       "{'A': 10, 'B': 20, 'C': 30, 'D': 40}"
      ]
     },
     "execution_count": 15,
     "metadata": {},
     "output_type": "execute_result"
    }
   ],
   "source": [
    "dt2  = dict(ls)"
   ]
  },
  {
   "cell_type": "code",
   "execution_count": 17,
   "metadata": {},
   "outputs": [
    {
     "data": {
      "text/plain": [
       "[('A', 10), ('B', 20), ('C', 30), ('D', 40.25)]"
      ]
     },
     "execution_count": 17,
     "metadata": {},
     "output_type": "execute_result"
    }
   ],
   "source": [
    "list(dt2.items())"
   ]
  },
  {
   "cell_type": "code",
   "execution_count": 21,
   "metadata": {},
   "outputs": [
    {
     "data": {
      "text/plain": [
       "30"
      ]
     },
     "execution_count": 21,
     "metadata": {},
     "output_type": "execute_result"
    }
   ],
   "source": [
    "dt2.get(\"C\")  # dt['C']"
   ]
  },
  {
   "cell_type": "code",
   "execution_count": null,
   "metadata": {},
   "outputs": [
    {
     "ename": "KeyError",
     "evalue": "'f'",
     "output_type": "error",
     "traceback": [
      "\u001b[1;31m---------------------------------------------------------------------------\u001b[0m",
      "\u001b[1;31mKeyError\u001b[0m                                  Traceback (most recent call last)",
      "Cell \u001b[1;32mIn[23], line 1\u001b[0m\n\u001b[1;32m----> 1\u001b[0m \u001b[43mdt2\u001b[49m\u001b[43m[\u001b[49m\u001b[38;5;124;43m'\u001b[39;49m\u001b[38;5;124;43mf\u001b[39;49m\u001b[38;5;124;43m'\u001b[39;49m\u001b[43m]\u001b[49m\n",
      "\u001b[1;31mKeyError\u001b[0m: 'f'"
     ]
    }
   ],
   "source": [
    "dt2['f']"
   ]
  },
  {
   "cell_type": "code",
   "execution_count": 26,
   "metadata": {},
   "outputs": [
    {
     "name": "stdout",
     "output_type": "stream",
     "text": [
      "{'A': 10, 'B': None, 'C': 30, 'D': 40.25}\n",
      "<class 'dict'>\n"
     ]
    }
   ],
   "source": [
    "dt2 = {\"A\":10,\"B\":None,\"C\":30,\"D\":40.25}\n",
    "print(dt2)\n",
    "print(type(dt2))"
   ]
  },
  {
   "cell_type": "code",
   "execution_count": 29,
   "metadata": {},
   "outputs": [],
   "source": [
    "dt2.get('f')"
   ]
  },
  {
   "cell_type": "code",
   "execution_count": 27,
   "metadata": {},
   "outputs": [
    {
     "data": {
      "text/plain": [
       "'not available'"
      ]
     },
     "execution_count": 27,
     "metadata": {},
     "output_type": "execute_result"
    }
   ],
   "source": [
    "dt2.get(\"f\",\"not available\")"
   ]
  },
  {
   "cell_type": "code",
   "execution_count": 30,
   "metadata": {},
   "outputs": [
    {
     "data": {
      "text/plain": [
       "{'A': 10, 'B': None, 'C': 30, 'D': 40.25}"
      ]
     },
     "execution_count": 30,
     "metadata": {},
     "output_type": "execute_result"
    }
   ],
   "source": [
    "dt2 "
   ]
  },
  {
   "cell_type": "code",
   "execution_count": 31,
   "metadata": {},
   "outputs": [
    {
     "data": {
      "text/plain": [
       "{'A': 10, 'B': None, 'C': 30, 'D': 40.25}"
      ]
     },
     "execution_count": 31,
     "metadata": {},
     "output_type": "execute_result"
    }
   ],
   "source": [
    "dt2 "
   ]
  },
  {
   "cell_type": "code",
   "execution_count": null,
   "metadata": {},
   "outputs": [],
   "source": [
    "dt2['C'] = 50  # updation "
   ]
  },
  {
   "cell_type": "code",
   "execution_count": 34,
   "metadata": {},
   "outputs": [
    {
     "data": {
      "text/plain": [
       "{'A': 10, 'B': None, 'C': 50, 'D': 40.25}"
      ]
     },
     "execution_count": 34,
     "metadata": {},
     "output_type": "execute_result"
    }
   ],
   "source": [
    "dt2 "
   ]
  },
  {
   "cell_type": "code",
   "execution_count": 36,
   "metadata": {},
   "outputs": [],
   "source": [
    "# insertion \n",
    "dt2[\"E\"]  = 100"
   ]
  },
  {
   "cell_type": "code",
   "execution_count": 37,
   "metadata": {},
   "outputs": [
    {
     "name": "stdout",
     "output_type": "stream",
     "text": [
      "{'A': 10, 'B': None, 'C': 50, 'D': 40.25, 'E': 100}\n"
     ]
    }
   ],
   "source": [
    "print(dt2)"
   ]
  },
  {
   "cell_type": "code",
   "execution_count": null,
   "metadata": {},
   "outputs": [],
   "source": [
    "dt2.pop(\"B\")  # specified key delete"
   ]
  },
  {
   "cell_type": "code",
   "execution_count": 46,
   "metadata": {},
   "outputs": [
    {
     "name": "stdout",
     "output_type": "stream",
     "text": [
      "{'A': 10}\n"
     ]
    }
   ],
   "source": [
    "print(dt2)"
   ]
  },
  {
   "cell_type": "code",
   "execution_count": 45,
   "metadata": {},
   "outputs": [
    {
     "data": {
      "text/plain": [
       "('C', 50)"
      ]
     },
     "execution_count": 45,
     "metadata": {},
     "output_type": "execute_result"
    }
   ],
   "source": [
    "dt2.popitem()  # remove the pair from the last position  "
   ]
  },
  {
   "cell_type": "code",
   "execution_count": 48,
   "metadata": {},
   "outputs": [
    {
     "name": "stdout",
     "output_type": "stream",
     "text": [
      "{'A': 10, 'B': None, 'C': 30, 'D': 40.25}\n"
     ]
    }
   ],
   "source": [
    "dt1  = {'A': 10, 'B': None, 'C': 30, 'D': 40.25}\n",
    "dt2 = {'E':200,'F':300,'C':500}\n",
    "print(dt)"
   ]
  },
  {
   "cell_type": "code",
   "execution_count": 50,
   "metadata": {},
   "outputs": [
    {
     "name": "stdout",
     "output_type": "stream",
     "text": [
      "{'A': 10, 'B': None, 'C': 500, 'D': 40.25, 'E': 200, 'F': 300}\n"
     ]
    }
   ],
   "source": [
    "dt1.update(dt2)  # set update \n",
    "print(dt1)"
   ]
  },
  {
   "cell_type": "code",
   "execution_count": 55,
   "metadata": {},
   "outputs": [
    {
     "name": "stdout",
     "output_type": "stream",
     "text": [
      "{'A': 'upflairs', 'B': 'upflairs', 'C': 'upflairs', 'D': 'upflairs'}\n"
     ]
    }
   ],
   "source": [
    "dt = dict.fromkeys(['A','B','C','D'],\"upflairs\")\n",
    "print(dt)"
   ]
  },
  {
   "cell_type": "code",
   "execution_count": 54,
   "metadata": {},
   "outputs": [
    {
     "name": "stdout",
     "output_type": "stream",
     "text": [
      "{'A': ('upflairs', 'Delvex'), 'B': ('upflairs', 'Delvex'), 'C': ('upflairs', 'Delvex'), 'D': ('upflairs', 'Delvex')}\n"
     ]
    }
   ],
   "source": [
    "dt = dict.fromkeys(['A','B','C','D'],(\"upflairs\",\"Delvex\"))\n",
    "print(dt)"
   ]
  },
  {
   "cell_type": "code",
   "execution_count": null,
   "metadata": {},
   "outputs": [],
   "source": [
    "range()"
   ]
  },
  {
   "cell_type": "markdown",
   "metadata": {},
   "source": [
    "### Type casting methods <br>\n",
    "str(),int(),list(),float(),dict(),set(),tuple()"
   ]
  },
  {
   "cell_type": "code",
   "execution_count": 56,
   "metadata": {},
   "outputs": [
    {
     "name": "stdout",
     "output_type": "stream",
     "text": [
      "10\n",
      "<class 'int'>\n"
     ]
    }
   ],
   "source": [
    "var = 10 \n",
    "print(var)\n",
    "print(type(var))\n"
   ]
  },
  {
   "cell_type": "code",
   "execution_count": null,
   "metadata": {},
   "outputs": [],
   "source": [
    "primitive and non-primitive "
   ]
  },
  {
   "cell_type": "code",
   "execution_count": 60,
   "metadata": {},
   "outputs": [
    {
     "name": "stdout",
     "output_type": "stream",
     "text": [
      "10.0\n",
      "<class 'float'>\n"
     ]
    }
   ],
   "source": [
    "var2 = float(var)\n",
    "print(var2)\n",
    "print(type(var2))"
   ]
  },
  {
   "cell_type": "code",
   "execution_count": 63,
   "metadata": {},
   "outputs": [
    {
     "name": "stdout",
     "output_type": "stream",
     "text": [
      "25.2\n",
      "25\n",
      "<class 'int'>\n"
     ]
    }
   ],
   "source": [
    "var = 25.2\n",
    "print(var) \n",
    "var2 = int(var)\n",
    "print(var2)\n",
    "print(type(var2))"
   ]
  },
  {
   "cell_type": "code",
   "execution_count": 66,
   "metadata": {},
   "outputs": [
    {
     "name": "stdout",
     "output_type": "stream",
     "text": [
      "2514\n",
      "2514\n",
      "<class 'str'>\n"
     ]
    }
   ],
   "source": [
    "# int ===>   str   # Done\n",
    "var = 2514 \n",
    "print(var)\n",
    "var2 = str(var)\n",
    "print(var2)\n",
    "print(type(var2))\n"
   ]
  },
  {
   "cell_type": "code",
   "execution_count": 67,
   "metadata": {},
   "outputs": [
    {
     "name": "stdout",
     "output_type": "stream",
     "text": [
      "258\n",
      "<class 'str'>\n",
      "258\n",
      "<class 'int'>\n"
     ]
    }
   ],
   "source": [
    "# str ===>   int \n",
    "var = \"258\"\n",
    "print(var)\n",
    "print(type(var))\n",
    "\n",
    "var2 = int(var)\n",
    "print(var2)\n",
    "print(type(var2))"
   ]
  },
  {
   "cell_type": "code",
   "execution_count": 73,
   "metadata": {},
   "outputs": [
    {
     "name": "stdout",
     "output_type": "stream",
     "text": [
      "258b\n",
      "<class 'str'>\n"
     ]
    },
    {
     "ename": "ValueError",
     "evalue": "invalid literal for int() with base 10: '258b'",
     "output_type": "error",
     "traceback": [
      "\u001b[1;31m---------------------------------------------------------------------------\u001b[0m",
      "\u001b[1;31mValueError\u001b[0m                                Traceback (most recent call last)",
      "Cell \u001b[1;32mIn[73], line 6\u001b[0m\n\u001b[0;32m      3\u001b[0m \u001b[38;5;28mprint\u001b[39m(var)\n\u001b[0;32m      4\u001b[0m \u001b[38;5;28mprint\u001b[39m(\u001b[38;5;28mtype\u001b[39m(var))\n\u001b[1;32m----> 6\u001b[0m var2 \u001b[38;5;241m=\u001b[39m \u001b[38;5;28;43mint\u001b[39;49m\u001b[43m(\u001b[49m\u001b[43mvar\u001b[49m\u001b[43m)\u001b[49m\n\u001b[0;32m      7\u001b[0m \u001b[38;5;28mprint\u001b[39m(var2)\n\u001b[0;32m      8\u001b[0m \u001b[38;5;28mprint\u001b[39m(\u001b[38;5;28mtype\u001b[39m(var2))\n",
      "\u001b[1;31mValueError\u001b[0m: invalid literal for int() with base 10: '258b'"
     ]
    }
   ],
   "source": [
    "# str ===>   int  ==>  should be integer content in string \n",
    "var = \"258b\"\n",
    "print(var)\n",
    "print(type(var))\n",
    "\n",
    "var2 = int(var)\n",
    "print(var2)\n",
    "print(type(var2))"
   ]
  },
  {
   "cell_type": "code",
   "execution_count": 75,
   "metadata": {},
   "outputs": [
    {
     "name": "stdout",
     "output_type": "stream",
     "text": [
      "[10, 20, 30, 40]\n",
      "<class 'list'>\n",
      "(10, 20, 30, 40)\n",
      "<class 'tuple'>\n"
     ]
    }
   ],
   "source": [
    "# list ==> tuple \n",
    "ls = [10,20,30,40]\n",
    "print(ls)\n",
    "print(type(ls))\n",
    "\n",
    "tpl= tuple(ls)\n",
    "print(tpl)\n",
    "print(type(tpl))"
   ]
  },
  {
   "cell_type": "code",
   "execution_count": 76,
   "metadata": {},
   "outputs": [
    {
     "name": "stdout",
     "output_type": "stream",
     "text": [
      "(10, 20, 30, 40)\n",
      "<class 'tuple'>\n",
      "[10, 20, 30, 40]\n",
      "<class 'list'>\n"
     ]
    }
   ],
   "source": [
    "# tuple == >  list  \n",
    "tpl = (10,20,30,40)\n",
    "print(tpl)\n",
    "print(type(tpl))\n",
    "\n",
    "ls= list(tpl)\n",
    "print(ls)\n",
    "print(type(ls))"
   ]
  },
  {
   "cell_type": "code",
   "execution_count": 77,
   "metadata": {},
   "outputs": [
    {
     "name": "stdout",
     "output_type": "stream",
     "text": [
      "[85, 36, 95, 75, 14]\n",
      "<class 'list'>\n",
      "{36, 75, 14, 85, 95}\n",
      "<class 'set'>\n"
     ]
    }
   ],
   "source": [
    "# list  ===>   set  \n",
    "var1 = [85,36,95,75,14]\n",
    "print(var1)\n",
    "print(type(var1))\n",
    "\n",
    "var2= set(var1)\n",
    "print(var2)\n",
    "print(type(var2))"
   ]
  },
  {
   "cell_type": "code",
   "execution_count": 78,
   "metadata": {},
   "outputs": [
    {
     "name": "stdout",
     "output_type": "stream",
     "text": [
      "{36, 85, 75, 14, 95}\n",
      "<class 'set'>\n",
      "[36, 85, 75, 14, 95]\n",
      "<class 'list'>\n"
     ]
    }
   ],
   "source": [
    "# SET => list \n",
    "var1 = {36, 75, 14, 85, 95}\n",
    "print(var1)\n",
    "print(type(var1))\n",
    "\n",
    "var2= list(var1)\n",
    "print(var2)\n",
    "print(type(var2))"
   ]
  },
  {
   "cell_type": "code",
   "execution_count": 80,
   "metadata": {},
   "outputs": [
    {
     "name": "stdout",
     "output_type": "stream",
     "text": [
      "[('A', 10), ('B', 20), ('C', 30)]\n",
      "<class 'list'>\n",
      "{'A': 10, 'B': 20, 'C': 30}\n"
     ]
    }
   ],
   "source": [
    "ls = [('A',10),('B',20),('C',30)]\n",
    "print(ls)\n",
    "print(type(ls))\n",
    "\n",
    "dt= dict(ls)\n",
    "print(dt)"
   ]
  },
  {
   "cell_type": "code",
   "execution_count": 83,
   "metadata": {},
   "outputs": [
    {
     "name": "stdout",
     "output_type": "stream",
     "text": [
      "[10, 80, 50, 20, 30]\n"
     ]
    }
   ],
   "source": [
    "ls = [10,20,30,10,20,50,80]\n",
    "var2 = list(set(ls))\n",
    "print(var2)"
   ]
  },
  {
   "cell_type": "code",
   "execution_count": null,
   "metadata": {},
   "outputs": [],
   "source": [
    "range(start , stop , jump )"
   ]
  },
  {
   "cell_type": "code",
   "execution_count": 88,
   "metadata": {},
   "outputs": [
    {
     "name": "stdout",
     "output_type": "stream",
     "text": [
      "[0, 1, 2, 3, 4, 5]\n"
     ]
    }
   ],
   "source": [
    "ls = list(range(0,6))\n",
    "print(ls)"
   ]
  },
  {
   "cell_type": "code",
   "execution_count": 93,
   "metadata": {},
   "outputs": [
    {
     "name": "stdout",
     "output_type": "stream",
     "text": [
      "50\n"
     ]
    }
   ],
   "source": [
    "ls  = list(range(2,101,2))\n",
    "print(len(ls)) "
   ]
  },
  {
   "cell_type": "code",
   "execution_count": 99,
   "metadata": {},
   "outputs": [
    {
     "name": "stdout",
     "output_type": "stream",
     "text": [
      "c\n",
      "e\n"
     ]
    }
   ],
   "source": [
    "ls = ['a','b','c','d','e']\n",
    "for i in range(0,6,2):\n",
    "    if i == 0 :\n",
    "        continue\n",
    "    if i % 2 == 0:\n",
    "        print(ls[i])"
   ]
  },
  {
   "cell_type": "code",
   "execution_count": 101,
   "metadata": {},
   "outputs": [
    {
     "name": "stdout",
     "output_type": "stream",
     "text": [
      "['Ram', 'Mohan', 'Govind', 'Kunal']\n"
     ]
    }
   ],
   "source": [
    "st = \"Ram Mohan Govind Kunal\" \n",
    "st2 = st.split()\n",
    "print(st2)"
   ]
  },
  {
   "cell_type": "code",
   "execution_count": null,
   "metadata": {},
   "outputs": [
    {
     "name": "stdout",
     "output_type": "stream",
     "text": [
      "2525\n"
     ]
    }
   ],
   "source": [
    "# User input  \n",
    "num1 = input(\"Plz enter first number : \")   # str \n",
    "num2 = input(\"Plz enter second number : \")  # str \n",
    "ouput = num1 + num2 \n",
    "print(ouput)"
   ]
  },
  {
   "cell_type": "code",
   "execution_count": 106,
   "metadata": {},
   "outputs": [
    {
     "name": "stdout",
     "output_type": "stream",
     "text": [
      "100\n"
     ]
    }
   ],
   "source": [
    "# User input  \n",
    "num1 = int(input(\"Plz enter first number : \"))   # str \n",
    "num2 = int(input(\"Plz enter second number : \"))  # str \n",
    "ouput = num1 + num2 \n",
    "print(ouput)"
   ]
  },
  {
   "cell_type": "code",
   "execution_count": null,
   "metadata": {},
   "outputs": [],
   "source": [
    "num1 = int(input(\"Plz enter first number : \"))   # str \n",
    "num2 = int(input(\"Plz enter second number : \"))  # str \n",
    "ouput = num1 + num2 \n",
    "print(ouput)"
   ]
  },
  {
   "cell_type": "code",
   "execution_count": 110,
   "metadata": {},
   "outputs": [
    {
     "name": "stdout",
     "output_type": "stream",
     "text": [
      "even\n"
     ]
    }
   ],
   "source": [
    "num = int(input(\"plz enter  a number : \"))\n",
    "output = \"even\" if num % 2 == 0 else \"odd\"\n",
    "print(output)"
   ]
  },
  {
   "cell_type": "code",
   "execution_count": 116,
   "metadata": {},
   "outputs": [
    {
     "name": "stdout",
     "output_type": "stream",
     "text": [
      "[10, 20, 30, 10, 20]\n",
      "<class 'list'>\n"
     ]
    }
   ],
   "source": [
    "user_input = eval(input(\"plz enter  a number : \"))\n",
    "print(user_input)\n",
    "print(type(user_input))"
   ]
  },
  {
   "cell_type": "code",
   "execution_count": 112,
   "metadata": {},
   "outputs": [
    {
     "name": "stdout",
     "output_type": "stream",
     "text": [
      "6\n",
      "ram\n",
      "3\n",
      "krishna\n",
      "4\n"
     ]
    }
   ],
   "source": [
    "for i in range(5):\n",
    "    a = input(\"plz enter a string \")\n",
    "    if i % 2 == 0:\n",
    "        print(len(a)) \n",
    "    else:\n",
    "        print(a)"
   ]
  },
  {
   "cell_type": "code",
   "execution_count": 4,
   "metadata": {},
   "outputs": [
    {
     "name": "stdout",
     "output_type": "stream",
     "text": [
      "unknown members\n"
     ]
    }
   ],
   "source": [
    "guest_list = ['mohit','savita','kavita','rohit'] \n",
    "padosi = ['priya','sona','bhumi','deeksha','kaalu'] \n",
    "unknown_members = ['suresh','angel priya','cutie pie'] \n",
    "name = input(\"enter your name plz : \")\n",
    "if name  in guest_list:\n",
    "    print(f\"Hello {name} Your are my guest, plz welcome\")\n",
    "elif name in padosi:\n",
    "    print(f\"Hello {name} you are my pdosi, plz welcome\")\n",
    "else:\n",
    "    print('unknown members')"
   ]
  },
  {
   "cell_type": "code",
   "execution_count": 14,
   "metadata": {},
   "outputs": [
    {
     "name": "stdout",
     "output_type": "stream",
     "text": [
      "bhaag bsdk\n"
     ]
    }
   ],
   "source": [
    "guest_list = ['mohit','savita','kavita','rohit'] \n",
    "padosi = ['priya','sona','bhumi','deeksha','kaalu'] \n",
    "members_list = guest_list + padosi \n",
    "\n",
    "name = input(\"enter your name plz : \")\n",
    "if name  in members_list:\n",
    "    if name in guest_list:\n",
    "        print(f\"Hello {name} welcome to you in home!\") \n",
    "    elif name in padosi:\n",
    "        gender =  input(\"are you mail or female enter f/m: \")\n",
    "        if gender == \"f\":\n",
    "            print(\"Most welcome in my home!\")\n",
    "        if gender == \"m\":\n",
    "            print(\"bhaag bsdk\")   \n",
    "else:\n",
    "    print('unknown members')"
   ]
  },
  {
   "cell_type": "code",
   "execution_count": 17,
   "metadata": {},
   "outputs": [
    {
     "name": "stdout",
     "output_type": "stream",
     "text": [
      "63\n",
      "96\n",
      "85\n",
      "74\n",
      "2536\n",
      "85\n",
      "74\n",
      "\n",
      "2536\n",
      "85\n",
      "74\n"
     ]
    }
   ],
   "source": [
    "num1 = [25,41,63,96,85,74]\n",
    "num2 = [14,5,2536,85,74]\n",
    "numbers = num1 + num2  \n",
    "numbers \n",
    "for item in numbers:\n",
    "    if item > 41:\n",
    "        print(item)\n",
    "print()\n",
    "for item2 in num2:\n",
    "    if item2 > 14 : \n",
    "        print(item2)"
   ]
  },
  {
   "cell_type": "code",
   "execution_count": 24,
   "metadata": {},
   "outputs": [
    {
     "name": "stdout",
     "output_type": "stream",
     "text": [
      "not present\n"
     ]
    }
   ],
   "source": [
    "num1 = [25,41,63,96,85,74 ,55]\n",
    "num2 = [14,5,2536,85,74,55]\n",
    "numbers = int(input(\"plz enter number : \"))\n",
    "if (numbers in num1) and (numbers in num2):\n",
    "    print(\"present in both\") \n",
    "else:\n",
    "    print(\"not present\")\n",
    "\n",
    "    "
   ]
  },
  {
   "cell_type": "code",
   "execution_count": null,
   "metadata": {},
   "outputs": [],
   "source": []
  }
 ],
 "metadata": {
  "kernelspec": {
   "display_name": "Python 3",
   "language": "python",
   "name": "python3"
  },
  "language_info": {
   "codemirror_mode": {
    "name": "ipython",
    "version": 3
   },
   "file_extension": ".py",
   "mimetype": "text/x-python",
   "name": "python",
   "nbconvert_exporter": "python",
   "pygments_lexer": "ipython3",
   "version": "3.12.4"
  }
 },
 "nbformat": 4,
 "nbformat_minor": 2
}
